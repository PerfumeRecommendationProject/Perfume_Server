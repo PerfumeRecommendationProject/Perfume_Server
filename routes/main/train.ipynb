{
 "cells": [
  {
   "cell_type": "markdown",
   "metadata": {
    "collapsed": true,
    "pycharm": {
     "name": "#%% md\n"
    }
   },
   "source": [
    "# Train\n",
    "\n",
    "1. **gensim==3.6.0 required!!!**\n",
    "2. final_perfume_data_clean.csv\n",
    "3. GoogleNews-vectors-negative300.bin\n",
    "4. ~~perfume_w2v~~ (pretrained model)"
   ]
  },
  {
   "cell_type": "code",
   "execution_count": 29,
   "outputs": [
    {
     "data": {
      "text/plain": "                                     Name                   Brand  \\\n0                    Tihota Eau de Parfum                  Indult   \n1                             Sola Parfum                  Di Ser   \n2                          Kagiroi Parfum                  Di Ser   \n3            Velvet Fantasy Eau de Parfum                 Montale   \n4     A Blvd. Called Sunset Eau de Parfum           A Lab on Fire   \n...                                   ...                     ...   \n2106           Perfect Veil Eau de Parfum  Sarah Horowitz Parfums   \n2107                  Scent Eau de Parfum        Costume National   \n2108                 Bronze Eau de Parfum              Nanadebary   \n2109         Monyette Paris Fragrance Oil          Monyette Paris   \n2110                   1270 Eau de Parfum                  Frapin   \n\n                                            Description  \\\n0      Rapa Nui for sugar, Tihota is, quite simply, ...   \n1      A tribute to the expanse of space extending f...   \n2      An aromatic ode to the ancient beauty of Japa...   \n3      Velvet Fantasy is a solar fragrance where cit...   \n4      There's no way A Lab On Fire could relocate t...   \n...                                                 ...   \n2106   This was created to smell like clean, naked s...   \n2107   Scent is Costume Nationals debut fragrance. W...   \n2108   Bronze is a naughty little vixen of a scent, ...   \n2109   This isn't just sexy, it's big night out sexy...   \n2110   Named for the year the Frapin family establis...   \n\n                                                  Notes  \\\n0                                   Vanilla bean, musks   \n1      Lavender, Yuzu, Lemongrass, Magnolia, Geraniu...   \n2      Green yuzu, green shikuwasa, sansho seed, cor...   \n3      tangerine,  pink pepper,  black coffee,  leat...   \n4      Bergamot, almond, violet, jasmine, leather, s...   \n...                                                 ...   \n2106   top: lemon, bergamot base: musk, vanilla, san...   \n2107   amber, jasmine tea, mother of pearl hibiscus ...   \n2108   bergamot, mandarine, cinnamon, jasmine, iris,...   \n2109   Tahitian gardenia, French muguet du bois, hin...   \n2110   exotic woods, spice, raisin, vine flowers, pe...   \n\n                                              Image URL  \n0     https://static.luckyscent.com/images/products/...  \n1     https://static.luckyscent.com/images/products/...  \n2     https://static.luckyscent.com/images/products/...  \n3     https://static.luckyscent.com/images/products/...  \n4     https://static.luckyscent.com/images/products/...  \n...                                                 ...  \n2106  https://static.luckyscent.com/images/products/...  \n2107  https://static.luckyscent.com/images/products/...  \n2108  https://static.luckyscent.com/images/products/...  \n2109  https://static.luckyscent.com/images/products/...  \n2110  https://static.luckyscent.com/images/products/...  \n\n[2111 rows x 5 columns]",
      "text/html": "<div>\n<style scoped>\n    .dataframe tbody tr th:only-of-type {\n        vertical-align: middle;\n    }\n\n    .dataframe tbody tr th {\n        vertical-align: top;\n    }\n\n    .dataframe thead th {\n        text-align: right;\n    }\n</style>\n<table border=\"1\" class=\"dataframe\">\n  <thead>\n    <tr style=\"text-align: right;\">\n      <th></th>\n      <th>Name</th>\n      <th>Brand</th>\n      <th>Description</th>\n      <th>Notes</th>\n      <th>Image URL</th>\n    </tr>\n  </thead>\n  <tbody>\n    <tr>\n      <th>0</th>\n      <td>Tihota Eau de Parfum</td>\n      <td>Indult</td>\n      <td>Rapa Nui for sugar, Tihota is, quite simply, ...</td>\n      <td>Vanilla bean, musks</td>\n      <td>https://static.luckyscent.com/images/products/...</td>\n    </tr>\n    <tr>\n      <th>1</th>\n      <td>Sola Parfum</td>\n      <td>Di Ser</td>\n      <td>A tribute to the expanse of space extending f...</td>\n      <td>Lavender, Yuzu, Lemongrass, Magnolia, Geraniu...</td>\n      <td>https://static.luckyscent.com/images/products/...</td>\n    </tr>\n    <tr>\n      <th>2</th>\n      <td>Kagiroi Parfum</td>\n      <td>Di Ser</td>\n      <td>An aromatic ode to the ancient beauty of Japa...</td>\n      <td>Green yuzu, green shikuwasa, sansho seed, cor...</td>\n      <td>https://static.luckyscent.com/images/products/...</td>\n    </tr>\n    <tr>\n      <th>3</th>\n      <td>Velvet Fantasy Eau de Parfum</td>\n      <td>Montale</td>\n      <td>Velvet Fantasy is a solar fragrance where cit...</td>\n      <td>tangerine,  pink pepper,  black coffee,  leat...</td>\n      <td>https://static.luckyscent.com/images/products/...</td>\n    </tr>\n    <tr>\n      <th>4</th>\n      <td>A Blvd. Called Sunset Eau de Parfum</td>\n      <td>A Lab on Fire</td>\n      <td>There's no way A Lab On Fire could relocate t...</td>\n      <td>Bergamot, almond, violet, jasmine, leather, s...</td>\n      <td>https://static.luckyscent.com/images/products/...</td>\n    </tr>\n    <tr>\n      <th>...</th>\n      <td>...</td>\n      <td>...</td>\n      <td>...</td>\n      <td>...</td>\n      <td>...</td>\n    </tr>\n    <tr>\n      <th>2106</th>\n      <td>Perfect Veil Eau de Parfum</td>\n      <td>Sarah Horowitz Parfums</td>\n      <td>This was created to smell like clean, naked s...</td>\n      <td>top: lemon, bergamot base: musk, vanilla, san...</td>\n      <td>https://static.luckyscent.com/images/products/...</td>\n    </tr>\n    <tr>\n      <th>2107</th>\n      <td>Scent Eau de Parfum</td>\n      <td>Costume National</td>\n      <td>Scent is Costume Nationals debut fragrance. W...</td>\n      <td>amber, jasmine tea, mother of pearl hibiscus ...</td>\n      <td>https://static.luckyscent.com/images/products/...</td>\n    </tr>\n    <tr>\n      <th>2108</th>\n      <td>Bronze Eau de Parfum</td>\n      <td>Nanadebary</td>\n      <td>Bronze is a naughty little vixen of a scent, ...</td>\n      <td>bergamot, mandarine, cinnamon, jasmine, iris,...</td>\n      <td>https://static.luckyscent.com/images/products/...</td>\n    </tr>\n    <tr>\n      <th>2109</th>\n      <td>Monyette Paris Fragrance Oil</td>\n      <td>Monyette Paris</td>\n      <td>This isn't just sexy, it's big night out sexy...</td>\n      <td>Tahitian gardenia, French muguet du bois, hin...</td>\n      <td>https://static.luckyscent.com/images/products/...</td>\n    </tr>\n    <tr>\n      <th>2110</th>\n      <td>1270 Eau de Parfum</td>\n      <td>Frapin</td>\n      <td>Named for the year the Frapin family establis...</td>\n      <td>exotic woods, spice, raisin, vine flowers, pe...</td>\n      <td>https://static.luckyscent.com/images/products/...</td>\n    </tr>\n  </tbody>\n</table>\n<p>2111 rows × 5 columns</p>\n</div>"
     },
     "execution_count": 29,
     "metadata": {},
     "output_type": "execute_result"
    }
   ],
   "source": [
    "import pandas as pd\n",
    "data = pd.read_csv('../src/database/final_perfume_data_clean.csv', sep='#')\n",
    "data.head(5)"
   ],
   "metadata": {
    "collapsed": false,
    "pycharm": {
     "name": "#%%\n"
    }
   }
  },
  {
   "cell_type": "code",
   "execution_count": 27,
   "outputs": [
    {
     "name": "stderr",
     "output_type": "stream",
     "text": [
      "c:\\users\\bluesun\\anaconda3\\envs\\nlp\\lib\\site-packages\\ipykernel_launcher.py:3: FutureWarning: The default value of regex will change from True to False in a future version.\n",
      "  This is separate from the ipykernel package so we can avoid doing imports until\n",
      "c:\\users\\bluesun\\anaconda3\\envs\\nlp\\lib\\site-packages\\ipykernel_launcher.py:4: FutureWarning: The default value of regex will change from True to False in a future version.\n",
      "  after removing the cwd from sys.path.\n",
      "c:\\users\\bluesun\\anaconda3\\envs\\nlp\\lib\\site-packages\\ipykernel_launcher.py:5: FutureWarning: The default value of regex will change from True to False in a future version.\n",
      "  \"\"\"\n"
     ]
    },
    {
     "data": {
      "text/plain": "0        rapa nui for sugar tihota is quite simply the...\n1        a tribute to the expanse of space extending f...\n2        an aromatic ode to the ancient beauty of japa...\n3        velvet fantasy is a solar fragrance where cit...\n4        there no way a lab on fire could relocate to ...\n                              ...                        \n2106     this was created to smell like clean naked sk...\n2107     scent is costume nationals debut fragrance wh...\n2108     bronze is a naughty little vixen of a scent s...\n2109     this isn't just sexy it big night out sexy it...\n2110     named for the year the frapin family establis...\nName: clean_docs, Length: 2111, dtype: object"
     },
     "execution_count": 27,
     "metadata": {},
     "output_type": "execute_result"
    }
   ],
   "source": [
    "# preprocessing\n",
    "\n",
    "data['clean_docs'] = data['Description'].str.replace(\"[^a-zA-Z']\", ' ')\n",
    "data['clean_docs'] = data['clean_docs'].str.replace(\"'[a-su-zA-SU-Z]\", ' ')\n",
    "data['clean_docs'] = data['clean_docs'].str.replace(' +', ' ')\n",
    "data['clean_docs'] = data['clean_docs'].str.lower()\n",
    "\n",
    "data['clean_docs']"
   ],
   "metadata": {
    "collapsed": false,
    "pycharm": {
     "name": "#%%\n"
    }
   }
  },
  {
   "cell_type": "code",
   "execution_count": 11,
   "outputs": [],
   "source": [
    "from nltk.corpus import stopwords\n",
    "import nltk\n",
    "\n",
    "try:\n",
    "    stopword = stopwords.words('english')\n",
    "except:\n",
    "    nltk.download('stopwords')\n",
    "    nltk.download('punkt')\n",
    "    stopword = stopwords.words('english')"
   ],
   "metadata": {
    "collapsed": false,
    "pycharm": {
     "name": "#%%\n"
    }
   }
  },
  {
   "cell_type": "code",
   "execution_count": 12,
   "outputs": [
    {
     "name": "stdout",
     "output_type": "stream",
     "text": [
      "[\"don't\", \"aren't\", \"couldn't\", \"didn't\", \"doesn't\", \"hadn't\", \"hasn't\", \"haven't\", \"isn't\", \"mightn't\", \"mustn't\", \"needn't\", \"shan't\", \"shouldn't\", \"wasn't\", \"weren't\", \"won't\", \"wouldn't\"]\n"
     ]
    }
   ],
   "source": [
    "import re\n",
    "x = ' '.join(stopword)\n",
    "nt = re.findall(\"\\w+'t\", x)\n",
    "print(nt)"
   ],
   "metadata": {
    "collapsed": false,
    "pycharm": {
     "name": "#%%\n"
    }
   }
  },
  {
   "cell_type": "code",
   "execution_count": 13,
   "outputs": [],
   "source": [
    "stopword = list(set(stopword) - ({'no', 'nor', 'not', 'only', 'too'}| set(nt)))"
   ],
   "metadata": {
    "collapsed": false,
    "pycharm": {
     "name": "#%%\n"
    }
   }
  },
  {
   "cell_type": "code",
   "execution_count": 14,
   "outputs": [
    {
     "data": {
      "text/plain": "0       [rapa, nui, sugar, tihota, quite, simply, one,...\n1       [tribute, expanse, space, extending, sky, flow...\n2       [aromatic, ode, ancient, beauty, japan, kagiro...\n3       [velvet, fantasy, solar, fragrance, citrus, ve...\n4       [no, way, lab, fire, could, relocate, los, ang...\n                              ...                        \n2106    [created, smell, like, clean, naked, skin, hon...\n2107    [scent, costume, nationals, debut, fragrance, ...\n2108    [bronze, naughty, little, vixen, scent, slinki...\n2109    [isn't, sexy, big, night, sexy, reel, sexy, am...\n2110    [named, year, frapin, family, established, cog...\nName: clean_docs, Length: 2111, dtype: object"
     },
     "execution_count": 14,
     "metadata": {},
     "output_type": "execute_result"
    }
   ],
   "source": [
    "from tensorflow.python.keras.preprocessing.text import text_to_word_sequence\n",
    "data['clean_docs'] = data['clean_docs'].apply(lambda x: [t for t in text_to_word_sequence(x)\n",
    "                                                         if t not in stopword and len(t)>1])\n",
    "\n",
    "data['clean_docs']"
   ],
   "metadata": {
    "collapsed": false,
    "pycharm": {
     "name": "#%%\n"
    }
   }
  },
  {
   "cell_type": "code",
   "execution_count": null,
   "outputs": [],
   "source": [
    "# training\n",
    "\n",
    "corpus = [word for word in data['clean_docs']]\n",
    "\n",
    "from gensim.models import Word2Vec\n",
    "# The codes below are not work for gensim version over 3.6.0\n",
    "w2v_model = Word2Vec(size=300, window=5, min_count=2, workers=-1)\n",
    "w2v_model.build_vocab(corpus)\n",
    "w2v_model.intersect_word2vec_format('../../src/pretrained_models/GoogleNews-vectors-negative300.bin.gz',\n",
    "                                    lockf=1.0, binary=True)"
   ],
   "metadata": {
    "collapsed": false,
    "pycharm": {
     "name": "#%%\n"
    }
   }
  },
  {
   "cell_type": "code",
   "execution_count": null,
   "outputs": [],
   "source": [
    "w2v_model.train(corpus, total_examples=w2v_model.corpus_count, epochs=15)"
   ],
   "metadata": {
    "collapsed": false,
    "pycharm": {
     "name": "#%%\n"
    }
   }
  },
  {
   "cell_type": "code",
   "execution_count": null,
   "outputs": [],
   "source": [
    "w2v_model.save('perfume_w2v')"
   ],
   "metadata": {
    "collapsed": false,
    "pycharm": {
     "name": "#%%\n"
    }
   }
  }
 ],
 "metadata": {
  "kernelspec": {
   "display_name": "Python 3",
   "language": "python",
   "name": "python3"
  },
  "language_info": {
   "codemirror_mode": {
    "name": "ipython",
    "version": 2
   },
   "file_extension": ".py",
   "mimetype": "text/x-python",
   "name": "python",
   "nbconvert_exporter": "python",
   "pygments_lexer": "ipython2",
   "version": "2.7.6"
  }
 },
 "nbformat": 4,
 "nbformat_minor": 0
}