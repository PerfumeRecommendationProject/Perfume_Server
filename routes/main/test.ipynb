{
 "cells": [
  {
   "cell_type": "code",
   "execution_count": 1,
   "metadata": {
    "collapsed": true
   },
   "outputs": [],
   "source": [
    "import numpy as np\n",
    "import pandas as pd"
   ]
  },
  {
   "cell_type": "code",
   "execution_count": 2,
   "outputs": [
    {
     "data": {
      "text/plain": "                                     Name                   Brand  \\\n0                    Tihota Eau de Parfum                  Indult   \n1                             Sola Parfum                  Di Ser   \n2                          Kagiroi Parfum                  Di Ser   \n3            Velvet Fantasy Eau de Parfum                 Montale   \n4     A Blvd. Called Sunset Eau de Parfum           A Lab on Fire   \n...                                   ...                     ...   \n2186           Perfect Veil Eau de Parfum  Sarah Horowitz Parfums   \n2187                  Scent Eau de Parfum        Costume National   \n2188                 Bronze Eau de Parfum              Nanadebary   \n2189         Monyette Paris Fragrance Oil          Monyette Paris   \n2190                   1270 Eau de Parfum                  Frapin   \n\n                                            Description  \\\n0      Rapa Nui for sugar, Tihota is, quite simply, ...   \n1      A tribute to the expanse of space extending f...   \n2      An aromatic ode to the ancient beauty of Japa...   \n3      Velvet Fantasy is a solar fragrance where cit...   \n4      There's no way A Lab On Fire could relocate t...   \n...                                                 ...   \n2186   This was created to smell like clean, naked s...   \n2187   Scent is Costume Nationals debut fragrance. W...   \n2188   Bronze is a naughty little vixen of a scent, ...   \n2189   This isn't just sexy, it's �big night out� se...   \n2190   Named for the year the Frapin family establis...   \n\n                                                  Notes  \\\n0                                   Vanilla bean, musks   \n1      Lavender, Yuzu, Lemongrass, Magnolia, Geraniu...   \n2      Green yuzu, green shikuwasa, sansho seed, cor...   \n3      tangerine,  pink pepper,  black coffee,  leat...   \n4      Bergamot, almond, violet, jasmine, leather, s...   \n...                                                 ...   \n2186   top: lemon, bergamot base: musk, vanilla, san...   \n2187   amber, jasmine tea, mother of pearl hibiscus ...   \n2188   bergamot, mandarine, cinnamon, jasmine, iris,...   \n2189   Tahitian gardenia, French muguet du bois, hin...   \n2190   exotic woods, spice, raisin, vine flowers, pe...   \n\n                                              Image URL  \n0     https://static.luckyscent.com/images/products/...  \n1     https://static.luckyscent.com/images/products/...  \n2     https://static.luckyscent.com/images/products/...  \n3     https://static.luckyscent.com/images/products/...  \n4     https://static.luckyscent.com/images/products/...  \n...                                                 ...  \n2186  https://static.luckyscent.com/images/products/...  \n2187  https://static.luckyscent.com/images/products/...  \n2188  https://static.luckyscent.com/images/products/...  \n2189  https://static.luckyscent.com/images/products/...  \n2190  https://static.luckyscent.com/images/products/...  \n\n[2191 rows x 5 columns]",
      "text/html": "<div>\n<style scoped>\n    .dataframe tbody tr th:only-of-type {\n        vertical-align: middle;\n    }\n\n    .dataframe tbody tr th {\n        vertical-align: top;\n    }\n\n    .dataframe thead th {\n        text-align: right;\n    }\n</style>\n<table border=\"1\" class=\"dataframe\">\n  <thead>\n    <tr style=\"text-align: right;\">\n      <th></th>\n      <th>Name</th>\n      <th>Brand</th>\n      <th>Description</th>\n      <th>Notes</th>\n      <th>Image URL</th>\n    </tr>\n  </thead>\n  <tbody>\n    <tr>\n      <th>0</th>\n      <td>Tihota Eau de Parfum</td>\n      <td>Indult</td>\n      <td>Rapa Nui for sugar, Tihota is, quite simply, ...</td>\n      <td>Vanilla bean, musks</td>\n      <td>https://static.luckyscent.com/images/products/...</td>\n    </tr>\n    <tr>\n      <th>1</th>\n      <td>Sola Parfum</td>\n      <td>Di Ser</td>\n      <td>A tribute to the expanse of space extending f...</td>\n      <td>Lavender, Yuzu, Lemongrass, Magnolia, Geraniu...</td>\n      <td>https://static.luckyscent.com/images/products/...</td>\n    </tr>\n    <tr>\n      <th>2</th>\n      <td>Kagiroi Parfum</td>\n      <td>Di Ser</td>\n      <td>An aromatic ode to the ancient beauty of Japa...</td>\n      <td>Green yuzu, green shikuwasa, sansho seed, cor...</td>\n      <td>https://static.luckyscent.com/images/products/...</td>\n    </tr>\n    <tr>\n      <th>3</th>\n      <td>Velvet Fantasy Eau de Parfum</td>\n      <td>Montale</td>\n      <td>Velvet Fantasy is a solar fragrance where cit...</td>\n      <td>tangerine,  pink pepper,  black coffee,  leat...</td>\n      <td>https://static.luckyscent.com/images/products/...</td>\n    </tr>\n    <tr>\n      <th>4</th>\n      <td>A Blvd. Called Sunset Eau de Parfum</td>\n      <td>A Lab on Fire</td>\n      <td>There's no way A Lab On Fire could relocate t...</td>\n      <td>Bergamot, almond, violet, jasmine, leather, s...</td>\n      <td>https://static.luckyscent.com/images/products/...</td>\n    </tr>\n    <tr>\n      <th>...</th>\n      <td>...</td>\n      <td>...</td>\n      <td>...</td>\n      <td>...</td>\n      <td>...</td>\n    </tr>\n    <tr>\n      <th>2186</th>\n      <td>Perfect Veil Eau de Parfum</td>\n      <td>Sarah Horowitz Parfums</td>\n      <td>This was created to smell like clean, naked s...</td>\n      <td>top: lemon, bergamot base: musk, vanilla, san...</td>\n      <td>https://static.luckyscent.com/images/products/...</td>\n    </tr>\n    <tr>\n      <th>2187</th>\n      <td>Scent Eau de Parfum</td>\n      <td>Costume National</td>\n      <td>Scent is Costume Nationals debut fragrance. W...</td>\n      <td>amber, jasmine tea, mother of pearl hibiscus ...</td>\n      <td>https://static.luckyscent.com/images/products/...</td>\n    </tr>\n    <tr>\n      <th>2188</th>\n      <td>Bronze Eau de Parfum</td>\n      <td>Nanadebary</td>\n      <td>Bronze is a naughty little vixen of a scent, ...</td>\n      <td>bergamot, mandarine, cinnamon, jasmine, iris,...</td>\n      <td>https://static.luckyscent.com/images/products/...</td>\n    </tr>\n    <tr>\n      <th>2189</th>\n      <td>Monyette Paris Fragrance Oil</td>\n      <td>Monyette Paris</td>\n      <td>This isn't just sexy, it's �big night out� se...</td>\n      <td>Tahitian gardenia, French muguet du bois, hin...</td>\n      <td>https://static.luckyscent.com/images/products/...</td>\n    </tr>\n    <tr>\n      <th>2190</th>\n      <td>1270 Eau de Parfum</td>\n      <td>Frapin</td>\n      <td>Named for the year the Frapin family establis...</td>\n      <td>exotic woods, spice, raisin, vine flowers, pe...</td>\n      <td>https://static.luckyscent.com/images/products/...</td>\n    </tr>\n  </tbody>\n</table>\n<p>2191 rows × 5 columns</p>\n</div>"
     },
     "execution_count": 2,
     "metadata": {},
     "output_type": "execute_result"
    }
   ],
   "source": [
    "### preprocessing ###\n",
    "data = pd.read_csv('../src/database/final_perfume_data.csv')\n",
    "data"
   ],
   "metadata": {
    "collapsed": false,
    "pycharm": {
     "name": "#%%\n"
    }
   }
  },
  {
   "cell_type": "code",
   "execution_count": 3,
   "outputs": [
    {
     "name": "stderr",
     "output_type": "stream",
     "text": [
      "c:\\users\\bluesun\\anaconda3\\envs\\nlp\\lib\\site-packages\\ipykernel_launcher.py:1: FutureWarning: The default value of regex will change from True to False in a future version.\n",
      "  \"\"\"Entry point for launching an IPython kernel.\n"
     ]
    },
    {
     "data": {
      "text/plain": "0        Rapa Nui for sugar  Tihota is  quite simply  ...\n1        A tribute to the expanse of space extending f...\n2        An aromatic ode to the ancient beauty of Japa...\n3        Velvet Fantasy is a solar fragrance where cit...\n4        There's no way A Lab On Fire could relocate t...\n                              ...                        \n2186     This was created to smell like clean  naked s...\n2187     Scent is Costume Nationals debut fragrance  W...\n2188     Bronze is a naughty little vixen of a scent  ...\n2189     This isn't just sexy  it's  big night out  se...\n2190     Named for the year the Frapin family establis...\nName: clean_docs, Length: 2191, dtype: object"
     },
     "execution_count": 3,
     "metadata": {},
     "output_type": "execute_result"
    }
   ],
   "source": [
    "data['clean_docs'] = data['Description'].str.replace(\"[^a-zA-Z']\", ' ')\n",
    "data['clean_docs']"
   ],
   "metadata": {
    "collapsed": false,
    "pycharm": {
     "name": "#%%\n"
    }
   }
  },
  {
   "cell_type": "code",
   "execution_count": 4,
   "outputs": [
    {
     "name": "stderr",
     "output_type": "stream",
     "text": [
      "c:\\users\\bluesun\\anaconda3\\envs\\nlp\\lib\\site-packages\\ipykernel_launcher.py:1: FutureWarning: The default value of regex will change from True to False in a future version.\n",
      "  \"\"\"Entry point for launching an IPython kernel.\n"
     ]
    },
    {
     "data": {
      "text/plain": "0        Rapa Nui for sugar  Tihota is  quite simply  ...\n1        A tribute to the expanse of space extending f...\n2        An aromatic ode to the ancient beauty of Japa...\n3        Velvet Fantasy is a solar fragrance where cit...\n4        There  no way A Lab On Fire could relocate to...\n                              ...                        \n2186     This was created to smell like clean  naked s...\n2187     Scent is Costume Nationals debut fragrance  W...\n2188     Bronze is a naughty little vixen of a scent  ...\n2189     This isn't just sexy  it   big night out  sex...\n2190     Named for the year the Frapin family establis...\nName: clean_docs, Length: 2191, dtype: object"
     },
     "execution_count": 4,
     "metadata": {},
     "output_type": "execute_result"
    }
   ],
   "source": [
    "data['clean_docs'] = data['clean_docs'].str.replace(\"'[a-su-zA-SU-Z]\", ' ')\n",
    "data['clean_docs']"
   ],
   "metadata": {
    "collapsed": false,
    "pycharm": {
     "name": "#%%\n"
    }
   }
  },
  {
   "cell_type": "code",
   "execution_count": 5,
   "outputs": [
    {
     "name": "stderr",
     "output_type": "stream",
     "text": [
      "c:\\users\\bluesun\\anaconda3\\envs\\nlp\\lib\\site-packages\\ipykernel_launcher.py:1: FutureWarning: The default value of regex will change from True to False in a future version.\n",
      "  \"\"\"Entry point for launching an IPython kernel.\n"
     ]
    },
    {
     "data": {
      "text/plain": "0        Rapa Nui for sugar Tihota is quite simply The...\n1        A tribute to the expanse of space extending f...\n2        An aromatic ode to the ancient beauty of Japa...\n3        Velvet Fantasy is a solar fragrance where cit...\n4        There no way A Lab On Fire could relocate to ...\n                              ...                        \n2186     This was created to smell like clean naked sk...\n2187     Scent is Costume Nationals debut fragrance Wh...\n2188     Bronze is a naughty little vixen of a scent s...\n2189     This isn't just sexy it big night out sexy It...\n2190     Named for the year the Frapin family establis...\nName: clean_docs, Length: 2191, dtype: object"
     },
     "execution_count": 5,
     "metadata": {},
     "output_type": "execute_result"
    }
   ],
   "source": [
    "data['clean_docs'] = data['clean_docs'].str.replace(' +', ' ')\n",
    "data['clean_docs']"
   ],
   "metadata": {
    "collapsed": false,
    "pycharm": {
     "name": "#%%\n"
    }
   }
  },
  {
   "cell_type": "code",
   "execution_count": 6,
   "outputs": [
    {
     "data": {
      "text/plain": "0        rapa nui for sugar tihota is quite simply the...\n1        a tribute to the expanse of space extending f...\n2        an aromatic ode to the ancient beauty of japa...\n3        velvet fantasy is a solar fragrance where cit...\n4        there no way a lab on fire could relocate to ...\n                              ...                        \n2186     this was created to smell like clean naked sk...\n2187     scent is costume nationals debut fragrance wh...\n2188     bronze is a naughty little vixen of a scent s...\n2189     this isn't just sexy it big night out sexy it...\n2190     named for the year the frapin family establis...\nName: clean_docs, Length: 2191, dtype: object"
     },
     "execution_count": 6,
     "metadata": {},
     "output_type": "execute_result"
    }
   ],
   "source": [
    "data['clean_docs'] = data['clean_docs'].str.lower()\n",
    "data['clean_docs']"
   ],
   "metadata": {
    "collapsed": false,
    "pycharm": {
     "name": "#%%\n"
    }
   }
  },
  {
   "cell_type": "code",
   "execution_count": 7,
   "outputs": [],
   "source": [
    "from nltk.tokenize import word_tokenize\n",
    "from nltk.corpus import stopwords\n",
    "stopword = stopwords.words('english')"
   ],
   "metadata": {
    "collapsed": false,
    "pycharm": {
     "name": "#%%\n"
    }
   }
  },
  {
   "cell_type": "code",
   "execution_count": 8,
   "outputs": [
    {
     "data": {
      "text/plain": "179"
     },
     "execution_count": 8,
     "metadata": {},
     "output_type": "execute_result"
    }
   ],
   "source": [
    "len(stopword)"
   ],
   "metadata": {
    "collapsed": false,
    "pycharm": {
     "name": "#%%\n"
    }
   }
  },
  {
   "cell_type": "code",
   "execution_count": 9,
   "outputs": [
    {
     "data": {
      "text/plain": "['where',\n 'won',\n 'whom',\n 'own',\n 'our',\n 'in',\n 'so',\n 't',\n 've',\n 'y',\n 'couldn',\n 'been',\n 'haven',\n 'myself',\n 'because',\n 'there',\n 'to',\n 'other',\n 'ain',\n 'i',\n 'after',\n 'do',\n 'and',\n 'on',\n 'same',\n 'my',\n 'but',\n 'until',\n 'his',\n 'aren',\n 'above',\n 'them',\n 'under',\n 'himself',\n 'doesn',\n 'wouldn',\n 'being',\n \"that'll\",\n 'into',\n 'down',\n 'd',\n 'who',\n 'with',\n 'when',\n 'me',\n 'her',\n 'an',\n 'isn',\n 'ma',\n 'is',\n 'your',\n 'should',\n 'yourself',\n 'just',\n \"she's\",\n 'was',\n \"you'd\",\n 're',\n 'll',\n 'for',\n 'out',\n 'both',\n 'at',\n 'those',\n 'all',\n 'are',\n 'had',\n 'will',\n 'about',\n 'again',\n 'don',\n 'its',\n 'few',\n 'they',\n 'itself',\n 'most',\n 'have',\n 'him',\n 'from',\n 'below',\n 'theirs',\n 'against',\n 'having',\n 'why',\n \"should've\",\n 'during',\n 'between',\n 'mightn',\n \"you'll\",\n 'this',\n 'that',\n 'does',\n 'of',\n 'themselves',\n 'or',\n 'these',\n 'over',\n 'yourselves',\n 'what',\n 'up',\n 'each',\n 'if',\n 'wasn',\n 'ourselves',\n 'ours',\n 'shan',\n 'it',\n 'now',\n 'm',\n 'didn',\n 'further',\n 'hasn',\n 'weren',\n 'were',\n 'herself',\n 'here',\n 'before',\n \"you've\",\n 'then',\n 'mustn',\n 'some',\n 'than',\n 'you',\n 'she',\n 'am',\n 'doing',\n 'hers',\n 'yours',\n 'we',\n 'off',\n 'the',\n 'shouldn',\n \"you're\",\n 'needn',\n 's',\n 'hadn',\n 'o',\n 'can',\n 'any',\n 'very',\n 'a',\n \"it's\",\n 'has',\n 'he',\n 'through',\n 'once',\n 'their',\n 'such',\n 'more',\n 'did',\n 'while',\n 'be',\n 'as',\n 'how',\n 'by',\n 'which']"
     },
     "execution_count": 9,
     "metadata": {},
     "output_type": "execute_result"
    }
   ],
   "source": [
    "import re\n",
    "x = ' '.join(stopword)\n",
    "nt = re.findall(\"\\w+'t\", x)\n",
    "stopword = list(set(stopword) - ({'no', 'nor', 'not', 'only', 'too'}| set(nt)))\n",
    "stopword"
   ],
   "metadata": {
    "collapsed": false,
    "pycharm": {
     "name": "#%%\n"
    }
   }
  },
  {
   "cell_type": "code",
   "execution_count": 10,
   "outputs": [
    {
     "data": {
      "text/plain": "156"
     },
     "execution_count": 10,
     "metadata": {},
     "output_type": "execute_result"
    }
   ],
   "source": [
    "len(stopword)"
   ],
   "metadata": {
    "collapsed": false,
    "pycharm": {
     "name": "#%%\n"
    }
   }
  },
  {
   "cell_type": "code",
   "execution_count": 11,
   "outputs": [
    {
     "data": {
      "text/plain": "0       [rapa, nui, sugar, tihota, quite, simply, one,...\n1       [tribute, expanse, space, extending, sky, flow...\n2       [aromatic, ode, ancient, beauty, japan, kagiro...\n3       [velvet, fantasy, solar, fragrance, citrus, ve...\n4       [no, way, lab, fire, could, relocate, los, ang...\n                              ...                        \n2186    [created, smell, like, clean, naked, skin, hon...\n2187    [scent, costume, nationals, debut, fragrance, ...\n2188    [bronze, naughty, little, vixen, scent, slinki...\n2189    [isn't, sexy, big, night, sexy, reel, sexy, am...\n2190    [named, year, frapin, family, established, cog...\nName: clean_docs, Length: 2191, dtype: object"
     },
     "execution_count": 11,
     "metadata": {},
     "output_type": "execute_result"
    }
   ],
   "source": [
    "from tensorflow.python.keras.preprocessing.text import text_to_word_sequence\n",
    "data['clean_docs'] = data['clean_docs'].apply(lambda x: [t for t in text_to_word_sequence(x)\n",
    "                                                         if t not in stopword and len(t)>1])\n",
    "data['clean_docs']\n",
    "### end preprocessing ###"
   ],
   "metadata": {
    "collapsed": false,
    "pycharm": {
     "name": "#%%\n"
    }
   }
  },
  {
   "cell_type": "code",
   "execution_count": 15,
   "outputs": [
    {
     "ename": "IndexError",
     "evalue": "index 1066 is out of bounds for axis 0 with size 1",
     "output_type": "error",
     "traceback": [
      "\u001B[1;31m---------------------------------------------------------------------------\u001B[0m",
      "\u001B[1;31mIndexError\u001B[0m                                Traceback (most recent call last)",
      "\u001B[1;32m<ipython-input-15-7558a4682e90>\u001B[0m in \u001B[0;36m<module>\u001B[1;34m\u001B[0m\n\u001B[0;32m      7\u001B[0m \u001B[0mw2v_model\u001B[0m \u001B[1;33m=\u001B[0m \u001B[0mWord2Vec\u001B[0m\u001B[1;33m(\u001B[0m\u001B[0mvector_size\u001B[0m\u001B[1;33m=\u001B[0m\u001B[1;36m300\u001B[0m\u001B[1;33m,\u001B[0m \u001B[0mwindow\u001B[0m\u001B[1;33m=\u001B[0m\u001B[1;36m5\u001B[0m\u001B[1;33m,\u001B[0m \u001B[0mmin_count\u001B[0m\u001B[1;33m=\u001B[0m\u001B[1;36m2\u001B[0m\u001B[1;33m,\u001B[0m \u001B[0mworkers\u001B[0m\u001B[1;33m=\u001B[0m\u001B[1;33m-\u001B[0m\u001B[1;36m1\u001B[0m\u001B[1;33m)\u001B[0m\u001B[1;33m\u001B[0m\u001B[1;33m\u001B[0m\u001B[0m\n\u001B[0;32m      8\u001B[0m \u001B[0mw2v_model\u001B[0m\u001B[1;33m.\u001B[0m\u001B[0mbuild_vocab\u001B[0m\u001B[1;33m(\u001B[0m\u001B[0mcorpus\u001B[0m\u001B[1;33m)\u001B[0m\u001B[1;33m\u001B[0m\u001B[1;33m\u001B[0m\u001B[0m\n\u001B[1;32m----> 9\u001B[1;33m \u001B[0mw2v_model\u001B[0m\u001B[1;33m.\u001B[0m\u001B[0mwv\u001B[0m\u001B[1;33m.\u001B[0m\u001B[0mintersect_word2vec_format\u001B[0m\u001B[1;33m(\u001B[0m\u001B[1;34m'GoogleNews-vectors-negative300.bin.gz'\u001B[0m\u001B[1;33m,\u001B[0m \u001B[0mlockf\u001B[0m\u001B[1;33m=\u001B[0m\u001B[1;36m1.0\u001B[0m\u001B[1;33m,\u001B[0m \u001B[0mbinary\u001B[0m\u001B[1;33m=\u001B[0m\u001B[1;32mTrue\u001B[0m\u001B[1;33m)\u001B[0m\u001B[1;33m\u001B[0m\u001B[1;33m\u001B[0m\u001B[0m\n\u001B[0m\u001B[0;32m     10\u001B[0m \u001B[1;31m# w2v_model = KeyedVectors(vector_size=300, count=2)\u001B[0m\u001B[1;33m\u001B[0m\u001B[1;33m\u001B[0m\u001B[1;33m\u001B[0m\u001B[0m\n\u001B[0;32m     11\u001B[0m \u001B[1;31m# w2v_model.\u001B[0m\u001B[1;33m\u001B[0m\u001B[1;33m\u001B[0m\u001B[1;33m\u001B[0m\u001B[0m\n",
      "\u001B[1;32mc:\\users\\bluesun\\anaconda3\\envs\\nlp\\lib\\site-packages\\gensim\\models\\keyedvectors.py\u001B[0m in \u001B[0;36mintersect_word2vec_format\u001B[1;34m(self, fname, lockf, binary, encoding, unicode_errors)\u001B[0m\n\u001B[0;32m   1680\u001B[0m                         \u001B[0moverlap_count\u001B[0m \u001B[1;33m+=\u001B[0m \u001B[1;36m1\u001B[0m\u001B[1;33m\u001B[0m\u001B[1;33m\u001B[0m\u001B[0m\n\u001B[0;32m   1681\u001B[0m                         \u001B[0mself\u001B[0m\u001B[1;33m.\u001B[0m\u001B[0mvectors\u001B[0m\u001B[1;33m[\u001B[0m\u001B[0mself\u001B[0m\u001B[1;33m.\u001B[0m\u001B[0mget_index\u001B[0m\u001B[1;33m(\u001B[0m\u001B[0mword\u001B[0m\u001B[1;33m)\u001B[0m\u001B[1;33m]\u001B[0m \u001B[1;33m=\u001B[0m \u001B[0mweights\u001B[0m\u001B[1;33m\u001B[0m\u001B[1;33m\u001B[0m\u001B[0m\n\u001B[1;32m-> 1682\u001B[1;33m                         \u001B[0mself\u001B[0m\u001B[1;33m.\u001B[0m\u001B[0mvectors_lockf\u001B[0m\u001B[1;33m[\u001B[0m\u001B[0mself\u001B[0m\u001B[1;33m.\u001B[0m\u001B[0mget_index\u001B[0m\u001B[1;33m(\u001B[0m\u001B[0mword\u001B[0m\u001B[1;33m)\u001B[0m\u001B[1;33m]\u001B[0m \u001B[1;33m=\u001B[0m \u001B[0mlockf\u001B[0m  \u001B[1;31m# lock-factor: 0.0=no changes\u001B[0m\u001B[1;33m\u001B[0m\u001B[1;33m\u001B[0m\u001B[0m\n\u001B[0m\u001B[0;32m   1683\u001B[0m             \u001B[1;32melse\u001B[0m\u001B[1;33m:\u001B[0m\u001B[1;33m\u001B[0m\u001B[1;33m\u001B[0m\u001B[0m\n\u001B[0;32m   1684\u001B[0m                 \u001B[1;32mfor\u001B[0m \u001B[0mline_no\u001B[0m\u001B[1;33m,\u001B[0m \u001B[0mline\u001B[0m \u001B[1;32min\u001B[0m \u001B[0menumerate\u001B[0m\u001B[1;33m(\u001B[0m\u001B[0mfin\u001B[0m\u001B[1;33m)\u001B[0m\u001B[1;33m:\u001B[0m\u001B[1;33m\u001B[0m\u001B[1;33m\u001B[0m\u001B[0m\n",
      "\u001B[1;31mIndexError\u001B[0m: index 1066 is out of bounds for axis 0 with size 1"
     ]
    }
   ],
   "source": [
    "### training ###\n",
    "corpus = [word for word in data['clean_docs']]\n",
    "\n",
    "from gensim.models.keyedvectors import KeyedVectors\n",
    "from gensim.models.word2vec import Word2Vec\n",
    "\n",
    "w2v_model = Word2Vec(vector_size=300, window=5, min_count=2, workers=-1)\n",
    "w2v_model.build_vocab(corpus)\n",
    "w2v_model.wv.intersect_word2vec_format('GoogleNews-vectors-negative300.bin.gz', lockf=1.0, binary=True)\n",
    "# w2v_model = KeyedVectors(vector_size=300, count=2)\n",
    "# w2v_model.\n",
    "# w2v_model.intersect_word2vec_format('GoogleNews-vectors-negative300.bin.gz', lockf=1.0, binary=True)"
   ],
   "metadata": {
    "collapsed": false,
    "pycharm": {
     "name": "#%%\n"
    }
   }
  },
  {
   "cell_type": "code",
   "execution_count": null,
   "outputs": [],
   "source": [],
   "metadata": {
    "collapsed": false,
    "pycharm": {
     "name": "#%%\n"
    }
   }
  },
  {
   "cell_type": "code",
   "execution_count": 48,
   "outputs": [],
   "source": [
    "from gensim.models.keyedvectors import KeyedVectors\n",
    "import numpy as np\n",
    "\n",
    "w2v_model = KeyedVectors.load_word2vec_format('../src/pretrained_models/perfume2_w2v')"
   ],
   "metadata": {
    "collapsed": false,
    "pycharm": {
     "name": "#%%\n"
    }
   }
  },
  {
   "cell_type": "code",
   "execution_count": 51,
   "outputs": [
    {
     "name": "stdout",
     "output_type": "stream",
     "text": [
      "(300,)\n",
      "(2191, 300)\n"
     ]
    }
   ],
   "source": [
    "from tensorflow.keras.preprocessing.text import text_to_word_sequence\n",
    "def avg_vectors(tokens):\n",
    "    if isinstance(tokens[0], str):\n",
    "        vecs = [w2v_model[t] for t in tokens if w2v_model.has_index_for(t)]\n",
    "        return np.mean(vecs, axis=0)\n",
    "    return np.array([avg_vectors(s) for s in tokens])\n",
    "\n",
    "print(avg_vectors(data['clean_docs'].loc[10]).shape)\n",
    "print(avg_vectors(data['clean_docs']).shape)"
   ],
   "metadata": {
    "collapsed": false,
    "pycharm": {
     "name": "#%%\n"
    }
   }
  },
  {
   "cell_type": "code",
   "execution_count": 50,
   "outputs": [
    {
     "data": {
      "text/plain": "0       [rapa, nui, sugar, tihota, quite, simply, one,...\n1       [tribute, expanse, space, extending, sky, flow...\n2       [aromatic, ode, ancient, beauty, japan, kagiro...\n3       [velvet, fantasy, solar, fragrance, citrus, ve...\n4       [no, way, lab, fire, could, relocate, los, ang...\n                              ...                        \n2186    [created, smell, like, clean, naked, skin, hon...\n2187    [scent, costume, nationals, debut, fragrance, ...\n2188    [bronze, naughty, little, vixen, scent, slinki...\n2189    [isn't, sexy, big, night, sexy, reel, sexy, am...\n2190    [named, year, frapin, family, established, cog...\nName: clean_docs, Length: 2191, dtype: object"
     },
     "execution_count": 50,
     "metadata": {},
     "output_type": "execute_result"
    }
   ],
   "source": [
    "data['clean_docs']"
   ],
   "metadata": {
    "collapsed": false,
    "pycharm": {
     "name": "#%%\n"
    }
   }
  },
  {
   "cell_type": "code",
   "execution_count": 52,
   "outputs": [],
   "source": [
    "x = data['clean_docs'].loc[0]\n",
    "vec = [w2v_model.get_vector(xin) for xin in x if w2v_model.has_index_for(xin)]\n",
    "a = np.mean(vec, axis=0)\n",
    "b = avg_vectors(data['clean_docs'].loc[0])"
   ],
   "metadata": {
    "collapsed": false,
    "pycharm": {
     "name": "#%%\n"
    }
   }
  },
  {
   "cell_type": "code",
   "execution_count": 5,
   "outputs": [
    {
     "data": {
      "text/plain": "      Unnamed: 0  Unnamed: 0.1                                 Name  \\\n0              0             0                 Tihota Eau de Parfum   \n1              1             1                          Sola Parfum   \n2              2             2                       Kagiroi Parfum   \n3              3             3         Velvet Fantasy Eau de Parfum   \n4              4             4  A Blvd. Called Sunset Eau de Parfum   \n...          ...           ...                                  ...   \n2106        2186          2186           Perfect Veil Eau de Parfum   \n2107        2187          2187                  Scent Eau de Parfum   \n2108        2188          2188                 Bronze Eau de Parfum   \n2109        2189          2189         Monyette Paris Fragrance Oil   \n2110        2190          2190                   1270 Eau de Parfum   \n\n                       Brand  \\\n0                     Indult   \n1                     Di Ser   \n2                     Di Ser   \n3                    Montale   \n4              A Lab on Fire   \n...                      ...   \n2106  Sarah Horowitz Parfums   \n2107        Costume National   \n2108              Nanadebary   \n2109          Monyette Paris   \n2110                  Frapin   \n\n                                            Description  \\\n0      Rapa Nui for sugar, Tihota is, quite simply, ...   \n1      A tribute to the expanse of space extending f...   \n2      An aromatic ode to the ancient beauty of Japa...   \n3      Velvet Fantasy is a solar fragrance where cit...   \n4      There's no way A Lab On Fire could relocate t...   \n...                                                 ...   \n2106   This was created to smell like clean, naked s...   \n2107   Scent is Costume Nationals debut fragrance. W...   \n2108   Bronze is a naughty little vixen of a scent, ...   \n2109   This isn't just sexy, it's big night out sexy...   \n2110   Named for the year the Frapin family establis...   \n\n                                                  Notes  \\\n0                                   Vanilla bean, musks   \n1      Lavender, Yuzu, Lemongrass, Magnolia, Geraniu...   \n2      Green yuzu, green shikuwasa, sansho seed, cor...   \n3      tangerine,  pink pepper,  black coffee,  leat...   \n4      Bergamot, almond, violet, jasmine, leather, s...   \n...                                                 ...   \n2106   top: lemon, bergamot base: musk, vanilla, san...   \n2107   amber, jasmine tea, mother of pearl hibiscus ...   \n2108   bergamot, mandarine, cinnamon, jasmine, iris,...   \n2109   Tahitian gardenia, French muguet du bois, hin...   \n2110   exotic woods, spice, raisin, vine flowers, pe...   \n\n                                              Image URL  \n0     https://static.luckyscent.com/images/products/...  \n1     https://static.luckyscent.com/images/products/...  \n2     https://static.luckyscent.com/images/products/...  \n3     https://static.luckyscent.com/images/products/...  \n4     https://static.luckyscent.com/images/products/...  \n...                                                 ...  \n2106  https://static.luckyscent.com/images/products/...  \n2107  https://static.luckyscent.com/images/products/...  \n2108  https://static.luckyscent.com/images/products/...  \n2109  https://static.luckyscent.com/images/products/...  \n2110  https://static.luckyscent.com/images/products/...  \n\n[2111 rows x 7 columns]",
      "text/html": "<div>\n<style scoped>\n    .dataframe tbody tr th:only-of-type {\n        vertical-align: middle;\n    }\n\n    .dataframe tbody tr th {\n        vertical-align: top;\n    }\n\n    .dataframe thead th {\n        text-align: right;\n    }\n</style>\n<table border=\"1\" class=\"dataframe\">\n  <thead>\n    <tr style=\"text-align: right;\">\n      <th></th>\n      <th>Unnamed: 0</th>\n      <th>Unnamed: 0.1</th>\n      <th>Name</th>\n      <th>Brand</th>\n      <th>Description</th>\n      <th>Notes</th>\n      <th>Image URL</th>\n    </tr>\n  </thead>\n  <tbody>\n    <tr>\n      <th>0</th>\n      <td>0</td>\n      <td>0</td>\n      <td>Tihota Eau de Parfum</td>\n      <td>Indult</td>\n      <td>Rapa Nui for sugar, Tihota is, quite simply, ...</td>\n      <td>Vanilla bean, musks</td>\n      <td>https://static.luckyscent.com/images/products/...</td>\n    </tr>\n    <tr>\n      <th>1</th>\n      <td>1</td>\n      <td>1</td>\n      <td>Sola Parfum</td>\n      <td>Di Ser</td>\n      <td>A tribute to the expanse of space extending f...</td>\n      <td>Lavender, Yuzu, Lemongrass, Magnolia, Geraniu...</td>\n      <td>https://static.luckyscent.com/images/products/...</td>\n    </tr>\n    <tr>\n      <th>2</th>\n      <td>2</td>\n      <td>2</td>\n      <td>Kagiroi Parfum</td>\n      <td>Di Ser</td>\n      <td>An aromatic ode to the ancient beauty of Japa...</td>\n      <td>Green yuzu, green shikuwasa, sansho seed, cor...</td>\n      <td>https://static.luckyscent.com/images/products/...</td>\n    </tr>\n    <tr>\n      <th>3</th>\n      <td>3</td>\n      <td>3</td>\n      <td>Velvet Fantasy Eau de Parfum</td>\n      <td>Montale</td>\n      <td>Velvet Fantasy is a solar fragrance where cit...</td>\n      <td>tangerine,  pink pepper,  black coffee,  leat...</td>\n      <td>https://static.luckyscent.com/images/products/...</td>\n    </tr>\n    <tr>\n      <th>4</th>\n      <td>4</td>\n      <td>4</td>\n      <td>A Blvd. Called Sunset Eau de Parfum</td>\n      <td>A Lab on Fire</td>\n      <td>There's no way A Lab On Fire could relocate t...</td>\n      <td>Bergamot, almond, violet, jasmine, leather, s...</td>\n      <td>https://static.luckyscent.com/images/products/...</td>\n    </tr>\n    <tr>\n      <th>...</th>\n      <td>...</td>\n      <td>...</td>\n      <td>...</td>\n      <td>...</td>\n      <td>...</td>\n      <td>...</td>\n      <td>...</td>\n    </tr>\n    <tr>\n      <th>2106</th>\n      <td>2186</td>\n      <td>2186</td>\n      <td>Perfect Veil Eau de Parfum</td>\n      <td>Sarah Horowitz Parfums</td>\n      <td>This was created to smell like clean, naked s...</td>\n      <td>top: lemon, bergamot base: musk, vanilla, san...</td>\n      <td>https://static.luckyscent.com/images/products/...</td>\n    </tr>\n    <tr>\n      <th>2107</th>\n      <td>2187</td>\n      <td>2187</td>\n      <td>Scent Eau de Parfum</td>\n      <td>Costume National</td>\n      <td>Scent is Costume Nationals debut fragrance. W...</td>\n      <td>amber, jasmine tea, mother of pearl hibiscus ...</td>\n      <td>https://static.luckyscent.com/images/products/...</td>\n    </tr>\n    <tr>\n      <th>2108</th>\n      <td>2188</td>\n      <td>2188</td>\n      <td>Bronze Eau de Parfum</td>\n      <td>Nanadebary</td>\n      <td>Bronze is a naughty little vixen of a scent, ...</td>\n      <td>bergamot, mandarine, cinnamon, jasmine, iris,...</td>\n      <td>https://static.luckyscent.com/images/products/...</td>\n    </tr>\n    <tr>\n      <th>2109</th>\n      <td>2189</td>\n      <td>2189</td>\n      <td>Monyette Paris Fragrance Oil</td>\n      <td>Monyette Paris</td>\n      <td>This isn't just sexy, it's big night out sexy...</td>\n      <td>Tahitian gardenia, French muguet du bois, hin...</td>\n      <td>https://static.luckyscent.com/images/products/...</td>\n    </tr>\n    <tr>\n      <th>2110</th>\n      <td>2190</td>\n      <td>2190</td>\n      <td>1270 Eau de Parfum</td>\n      <td>Frapin</td>\n      <td>Named for the year the Frapin family establis...</td>\n      <td>exotic woods, spice, raisin, vine flowers, pe...</td>\n      <td>https://static.luckyscent.com/images/products/...</td>\n    </tr>\n  </tbody>\n</table>\n<p>2111 rows × 7 columns</p>\n</div>"
     },
     "execution_count": 5,
     "metadata": {},
     "output_type": "execute_result"
    }
   ],
   "source": [
    "import pandas as pd\n",
    "data = pd.read_csv('final_perfume_data_clean.csv', sep='#')\n",
    "data\n",
    "data.isnull().sum()\n",
    "data.to_csv('final_perfume_data_clean.csv', sep='#')\n",
    "pd.DataFrame({'voltage':[0.9,1.1,1.4,0.9,1.2,1.4,0.8,1.0,1.3], 'current':[12,16,20]*3, 'force':[6.3,8.4, 10.4, 23.8,31.8,39.9,3.2,4.3,5.1], 'size':[2,2,2,8,8,8,1,1,1]})"
   ],
   "metadata": {
    "collapsed": false,
    "pycharm": {
     "name": "#%%\n"
    }
   }
  },
  {
   "cell_type": "code",
   "execution_count": 14,
   "outputs": [
    {
     "data": {
      "text/plain": "                                     Name                   Brand  \\\n0                    Tihota Eau de Parfum                  Indult   \n1                             Sola Parfum                  Di Ser   \n2                          Kagiroi Parfum                  Di Ser   \n3            Velvet Fantasy Eau de Parfum                 Montale   \n4     A Blvd. Called Sunset Eau de Parfum           A Lab on Fire   \n...                                   ...                     ...   \n2186           Perfect Veil Eau de Parfum  Sarah Horowitz Parfums   \n2187                  Scent Eau de Parfum        Costume National   \n2188                 Bronze Eau de Parfum              Nanadebary   \n2189         Monyette Paris Fragrance Oil          Monyette Paris   \n2190                   1270 Eau de Parfum                  Frapin   \n\n                                            Description  \\\n0      Rapa Nui for sugar, Tihota is, quite simply, ...   \n1      A tribute to the expanse of space extending f...   \n2      An aromatic ode to the ancient beauty of Japa...   \n3      Velvet Fantasy is a solar fragrance where cit...   \n4      There's no way A Lab On Fire could relocate t...   \n...                                                 ...   \n2186   This was created to smell like clean, naked s...   \n2187   Scent is Costume Nationals debut fragrance. W...   \n2188   Bronze is a naughty little vixen of a scent, ...   \n2189   This isn't just sexy, it's �big night out� se...   \n2190   Named for the year the Frapin family establis...   \n\n                                                  Notes  \\\n0                                   Vanilla bean, musks   \n1      Lavender, Yuzu, Lemongrass, Magnolia, Geraniu...   \n2      Green yuzu, green shikuwasa, sansho seed, cor...   \n3      tangerine,  pink pepper,  black coffee,  leat...   \n4      Bergamot, almond, violet, jasmine, leather, s...   \n...                                                 ...   \n2186   top: lemon, bergamot base: musk, vanilla, san...   \n2187   amber, jasmine tea, mother of pearl hibiscus ...   \n2188   bergamot, mandarine, cinnamon, jasmine, iris,...   \n2189   Tahitian gardenia, French muguet du bois, hin...   \n2190   exotic woods, spice, raisin, vine flowers, pe...   \n\n                                              Image URL  \n0     https://static.luckyscent.com/images/products/...  \n1     https://static.luckyscent.com/images/products/...  \n2     https://static.luckyscent.com/images/products/...  \n3     https://static.luckyscent.com/images/products/...  \n4     https://static.luckyscent.com/images/products/...  \n...                                                 ...  \n2186  https://static.luckyscent.com/images/products/...  \n2187  https://static.luckyscent.com/images/products/...  \n2188  https://static.luckyscent.com/images/products/...  \n2189  https://static.luckyscent.com/images/products/...  \n2190  https://static.luckyscent.com/images/products/...  \n\n[2191 rows x 5 columns]",
      "text/html": "<div>\n<style scoped>\n    .dataframe tbody tr th:only-of-type {\n        vertical-align: middle;\n    }\n\n    .dataframe tbody tr th {\n        vertical-align: top;\n    }\n\n    .dataframe thead th {\n        text-align: right;\n    }\n</style>\n<table border=\"1\" class=\"dataframe\">\n  <thead>\n    <tr style=\"text-align: right;\">\n      <th></th>\n      <th>Name</th>\n      <th>Brand</th>\n      <th>Description</th>\n      <th>Notes</th>\n      <th>Image URL</th>\n    </tr>\n  </thead>\n  <tbody>\n    <tr>\n      <th>0</th>\n      <td>Tihota Eau de Parfum</td>\n      <td>Indult</td>\n      <td>Rapa Nui for sugar, Tihota is, quite simply, ...</td>\n      <td>Vanilla bean, musks</td>\n      <td>https://static.luckyscent.com/images/products/...</td>\n    </tr>\n    <tr>\n      <th>1</th>\n      <td>Sola Parfum</td>\n      <td>Di Ser</td>\n      <td>A tribute to the expanse of space extending f...</td>\n      <td>Lavender, Yuzu, Lemongrass, Magnolia, Geraniu...</td>\n      <td>https://static.luckyscent.com/images/products/...</td>\n    </tr>\n    <tr>\n      <th>2</th>\n      <td>Kagiroi Parfum</td>\n      <td>Di Ser</td>\n      <td>An aromatic ode to the ancient beauty of Japa...</td>\n      <td>Green yuzu, green shikuwasa, sansho seed, cor...</td>\n      <td>https://static.luckyscent.com/images/products/...</td>\n    </tr>\n    <tr>\n      <th>3</th>\n      <td>Velvet Fantasy Eau de Parfum</td>\n      <td>Montale</td>\n      <td>Velvet Fantasy is a solar fragrance where cit...</td>\n      <td>tangerine,  pink pepper,  black coffee,  leat...</td>\n      <td>https://static.luckyscent.com/images/products/...</td>\n    </tr>\n    <tr>\n      <th>4</th>\n      <td>A Blvd. Called Sunset Eau de Parfum</td>\n      <td>A Lab on Fire</td>\n      <td>There's no way A Lab On Fire could relocate t...</td>\n      <td>Bergamot, almond, violet, jasmine, leather, s...</td>\n      <td>https://static.luckyscent.com/images/products/...</td>\n    </tr>\n    <tr>\n      <th>...</th>\n      <td>...</td>\n      <td>...</td>\n      <td>...</td>\n      <td>...</td>\n      <td>...</td>\n    </tr>\n    <tr>\n      <th>2186</th>\n      <td>Perfect Veil Eau de Parfum</td>\n      <td>Sarah Horowitz Parfums</td>\n      <td>This was created to smell like clean, naked s...</td>\n      <td>top: lemon, bergamot base: musk, vanilla, san...</td>\n      <td>https://static.luckyscent.com/images/products/...</td>\n    </tr>\n    <tr>\n      <th>2187</th>\n      <td>Scent Eau de Parfum</td>\n      <td>Costume National</td>\n      <td>Scent is Costume Nationals debut fragrance. W...</td>\n      <td>amber, jasmine tea, mother of pearl hibiscus ...</td>\n      <td>https://static.luckyscent.com/images/products/...</td>\n    </tr>\n    <tr>\n      <th>2188</th>\n      <td>Bronze Eau de Parfum</td>\n      <td>Nanadebary</td>\n      <td>Bronze is a naughty little vixen of a scent, ...</td>\n      <td>bergamot, mandarine, cinnamon, jasmine, iris,...</td>\n      <td>https://static.luckyscent.com/images/products/...</td>\n    </tr>\n    <tr>\n      <th>2189</th>\n      <td>Monyette Paris Fragrance Oil</td>\n      <td>Monyette Paris</td>\n      <td>This isn't just sexy, it's �big night out� se...</td>\n      <td>Tahitian gardenia, French muguet du bois, hin...</td>\n      <td>https://static.luckyscent.com/images/products/...</td>\n    </tr>\n    <tr>\n      <th>2190</th>\n      <td>1270 Eau de Parfum</td>\n      <td>Frapin</td>\n      <td>Named for the year the Frapin family establis...</td>\n      <td>exotic woods, spice, raisin, vine flowers, pe...</td>\n      <td>https://static.luckyscent.com/images/products/...</td>\n    </tr>\n  </tbody>\n</table>\n<p>2191 rows × 5 columns</p>\n</div>"
     },
     "execution_count": 14,
     "metadata": {},
     "output_type": "execute_result"
    }
   ],
   "source": [
    "import pandas as pd\n",
    "data = pd.read_csv('../src/database/final_perfume_data.csv')\n",
    "data"
   ],
   "metadata": {
    "collapsed": false,
    "pycharm": {
     "name": "#%%\n"
    }
   }
  },
  {
   "cell_type": "code",
   "execution_count": 15,
   "outputs": [],
   "source": [
    "data.dropna(inplace=True)"
   ],
   "metadata": {
    "collapsed": false,
    "pycharm": {
     "name": "#%%\n"
    }
   }
  },
  {
   "cell_type": "code",
   "execution_count": 17,
   "outputs": [],
   "source": [
    "data = data.reset_index()\n",
    "del data['index']"
   ],
   "metadata": {
    "collapsed": false,
    "pycharm": {
     "name": "#%%\n"
    }
   }
  },
  {
   "cell_type": "code",
   "execution_count": 18,
   "outputs": [
    {
     "data": {
      "text/plain": "                                     Name                   Brand  \\\n0                    Tihota Eau de Parfum                  Indult   \n1                             Sola Parfum                  Di Ser   \n2                          Kagiroi Parfum                  Di Ser   \n3            Velvet Fantasy Eau de Parfum                 Montale   \n4     A Blvd. Called Sunset Eau de Parfum           A Lab on Fire   \n...                                   ...                     ...   \n2106           Perfect Veil Eau de Parfum  Sarah Horowitz Parfums   \n2107                  Scent Eau de Parfum        Costume National   \n2108                 Bronze Eau de Parfum              Nanadebary   \n2109         Monyette Paris Fragrance Oil          Monyette Paris   \n2110                   1270 Eau de Parfum                  Frapin   \n\n                                            Description  \\\n0      Rapa Nui for sugar, Tihota is, quite simply, ...   \n1      A tribute to the expanse of space extending f...   \n2      An aromatic ode to the ancient beauty of Japa...   \n3      Velvet Fantasy is a solar fragrance where cit...   \n4      There's no way A Lab On Fire could relocate t...   \n...                                                 ...   \n2106   This was created to smell like clean, naked s...   \n2107   Scent is Costume Nationals debut fragrance. W...   \n2108   Bronze is a naughty little vixen of a scent, ...   \n2109   This isn't just sexy, it's �big night out� se...   \n2110   Named for the year the Frapin family establis...   \n\n                                                  Notes  \\\n0                                   Vanilla bean, musks   \n1      Lavender, Yuzu, Lemongrass, Magnolia, Geraniu...   \n2      Green yuzu, green shikuwasa, sansho seed, cor...   \n3      tangerine,  pink pepper,  black coffee,  leat...   \n4      Bergamot, almond, violet, jasmine, leather, s...   \n...                                                 ...   \n2106   top: lemon, bergamot base: musk, vanilla, san...   \n2107   amber, jasmine tea, mother of pearl hibiscus ...   \n2108   bergamot, mandarine, cinnamon, jasmine, iris,...   \n2109   Tahitian gardenia, French muguet du bois, hin...   \n2110   exotic woods, spice, raisin, vine flowers, pe...   \n\n                                              Image URL  \n0     https://static.luckyscent.com/images/products/...  \n1     https://static.luckyscent.com/images/products/...  \n2     https://static.luckyscent.com/images/products/...  \n3     https://static.luckyscent.com/images/products/...  \n4     https://static.luckyscent.com/images/products/...  \n...                                                 ...  \n2106  https://static.luckyscent.com/images/products/...  \n2107  https://static.luckyscent.com/images/products/...  \n2108  https://static.luckyscent.com/images/products/...  \n2109  https://static.luckyscent.com/images/products/...  \n2110  https://static.luckyscent.com/images/products/...  \n\n[2111 rows x 5 columns]",
      "text/html": "<div>\n<style scoped>\n    .dataframe tbody tr th:only-of-type {\n        vertical-align: middle;\n    }\n\n    .dataframe tbody tr th {\n        vertical-align: top;\n    }\n\n    .dataframe thead th {\n        text-align: right;\n    }\n</style>\n<table border=\"1\" class=\"dataframe\">\n  <thead>\n    <tr style=\"text-align: right;\">\n      <th></th>\n      <th>Name</th>\n      <th>Brand</th>\n      <th>Description</th>\n      <th>Notes</th>\n      <th>Image URL</th>\n    </tr>\n  </thead>\n  <tbody>\n    <tr>\n      <th>0</th>\n      <td>Tihota Eau de Parfum</td>\n      <td>Indult</td>\n      <td>Rapa Nui for sugar, Tihota is, quite simply, ...</td>\n      <td>Vanilla bean, musks</td>\n      <td>https://static.luckyscent.com/images/products/...</td>\n    </tr>\n    <tr>\n      <th>1</th>\n      <td>Sola Parfum</td>\n      <td>Di Ser</td>\n      <td>A tribute to the expanse of space extending f...</td>\n      <td>Lavender, Yuzu, Lemongrass, Magnolia, Geraniu...</td>\n      <td>https://static.luckyscent.com/images/products/...</td>\n    </tr>\n    <tr>\n      <th>2</th>\n      <td>Kagiroi Parfum</td>\n      <td>Di Ser</td>\n      <td>An aromatic ode to the ancient beauty of Japa...</td>\n      <td>Green yuzu, green shikuwasa, sansho seed, cor...</td>\n      <td>https://static.luckyscent.com/images/products/...</td>\n    </tr>\n    <tr>\n      <th>3</th>\n      <td>Velvet Fantasy Eau de Parfum</td>\n      <td>Montale</td>\n      <td>Velvet Fantasy is a solar fragrance where cit...</td>\n      <td>tangerine,  pink pepper,  black coffee,  leat...</td>\n      <td>https://static.luckyscent.com/images/products/...</td>\n    </tr>\n    <tr>\n      <th>4</th>\n      <td>A Blvd. Called Sunset Eau de Parfum</td>\n      <td>A Lab on Fire</td>\n      <td>There's no way A Lab On Fire could relocate t...</td>\n      <td>Bergamot, almond, violet, jasmine, leather, s...</td>\n      <td>https://static.luckyscent.com/images/products/...</td>\n    </tr>\n    <tr>\n      <th>...</th>\n      <td>...</td>\n      <td>...</td>\n      <td>...</td>\n      <td>...</td>\n      <td>...</td>\n    </tr>\n    <tr>\n      <th>2106</th>\n      <td>Perfect Veil Eau de Parfum</td>\n      <td>Sarah Horowitz Parfums</td>\n      <td>This was created to smell like clean, naked s...</td>\n      <td>top: lemon, bergamot base: musk, vanilla, san...</td>\n      <td>https://static.luckyscent.com/images/products/...</td>\n    </tr>\n    <tr>\n      <th>2107</th>\n      <td>Scent Eau de Parfum</td>\n      <td>Costume National</td>\n      <td>Scent is Costume Nationals debut fragrance. W...</td>\n      <td>amber, jasmine tea, mother of pearl hibiscus ...</td>\n      <td>https://static.luckyscent.com/images/products/...</td>\n    </tr>\n    <tr>\n      <th>2108</th>\n      <td>Bronze Eau de Parfum</td>\n      <td>Nanadebary</td>\n      <td>Bronze is a naughty little vixen of a scent, ...</td>\n      <td>bergamot, mandarine, cinnamon, jasmine, iris,...</td>\n      <td>https://static.luckyscent.com/images/products/...</td>\n    </tr>\n    <tr>\n      <th>2109</th>\n      <td>Monyette Paris Fragrance Oil</td>\n      <td>Monyette Paris</td>\n      <td>This isn't just sexy, it's �big night out� se...</td>\n      <td>Tahitian gardenia, French muguet du bois, hin...</td>\n      <td>https://static.luckyscent.com/images/products/...</td>\n    </tr>\n    <tr>\n      <th>2110</th>\n      <td>1270 Eau de Parfum</td>\n      <td>Frapin</td>\n      <td>Named for the year the Frapin family establis...</td>\n      <td>exotic woods, spice, raisin, vine flowers, pe...</td>\n      <td>https://static.luckyscent.com/images/products/...</td>\n    </tr>\n  </tbody>\n</table>\n<p>2111 rows × 5 columns</p>\n</div>"
     },
     "execution_count": 18,
     "metadata": {},
     "output_type": "execute_result"
    }
   ],
   "source": [
    "data['Description'].apply"
   ],
   "metadata": {
    "collapsed": false,
    "pycharm": {
     "name": "#%%\n"
    }
   }
  },
  {
   "cell_type": "code",
   "execution_count": 27,
   "outputs": [
    {
     "name": "stderr",
     "output_type": "stream",
     "text": [
      "c:\\users\\bluesun\\anaconda3\\envs\\nlp\\lib\\site-packages\\ipykernel_launcher.py:1: FutureWarning: The default value of regex will change from True to False in a future version.\n",
      "  \"\"\"Entry point for launching an IPython kernel.\n",
      "c:\\users\\bluesun\\anaconda3\\envs\\nlp\\lib\\site-packages\\ipykernel_launcher.py:2: FutureWarning: The default value of regex will change from True to False in a future version.\n",
      "  \n"
     ]
    },
    {
     "data": {
      "text/plain": "                                     Name                   Brand  \\\n0                    Tihota Eau de Parfum                  Indult   \n1                             Sola Parfum                  Di Ser   \n2                          Kagiroi Parfum                  Di Ser   \n3            Velvet Fantasy Eau de Parfum                 Montale   \n4     A Blvd. Called Sunset Eau de Parfum           A Lab on Fire   \n...                                   ...                     ...   \n2106           Perfect Veil Eau de Parfum  Sarah Horowitz Parfums   \n2107                  Scent Eau de Parfum        Costume National   \n2108                 Bronze Eau de Parfum              Nanadebary   \n2109         Monyette Paris Fragrance Oil          Monyette Paris   \n2110                   1270 Eau de Parfum                  Frapin   \n\n                                            Description  \\\n0      Rapa Nui for sugar, Tihota is, quite simply, ...   \n1      A tribute to the expanse of space extending f...   \n2      An aromatic ode to the ancient beauty of Japa...   \n3      Velvet Fantasy is a solar fragrance where cit...   \n4      There's no way A Lab On Fire could relocate t...   \n...                                                 ...   \n2106   This was created to smell like clean, naked s...   \n2107   Scent is Costume Nationals debut fragrance. W...   \n2108   Bronze is a naughty little vixen of a scent, ...   \n2109   This isn't just sexy, it's big night out sexy...   \n2110   Named for the year the Frapin family establis...   \n\n                                                  Notes  \\\n0                                   Vanilla bean, musks   \n1      Lavender, Yuzu, Lemongrass, Magnolia, Geraniu...   \n2      Green yuzu, green shikuwasa, sansho seed, cor...   \n3      tangerine,  pink pepper,  black coffee,  leat...   \n4      Bergamot, almond, violet, jasmine, leather, s...   \n...                                                 ...   \n2106   top: lemon, bergamot base: musk, vanilla, san...   \n2107   amber, jasmine tea, mother of pearl hibiscus ...   \n2108   bergamot, mandarine, cinnamon, jasmine, iris,...   \n2109   Tahitian gardenia, French muguet du bois, hin...   \n2110   exotic woods, spice, raisin, vine flowers, pe...   \n\n                                              Image URL  \n0     https://static.luckyscent.com/images/products/...  \n1     https://static.luckyscent.com/images/products/...  \n2     https://static.luckyscent.com/images/products/...  \n3     https://static.luckyscent.com/images/products/...  \n4     https://static.luckyscent.com/images/products/...  \n...                                                 ...  \n2106  https://static.luckyscent.com/images/products/...  \n2107  https://static.luckyscent.com/images/products/...  \n2108  https://static.luckyscent.com/images/products/...  \n2109  https://static.luckyscent.com/images/products/...  \n2110  https://static.luckyscent.com/images/products/...  \n\n[2111 rows x 5 columns]",
      "text/html": "<div>\n<style scoped>\n    .dataframe tbody tr th:only-of-type {\n        vertical-align: middle;\n    }\n\n    .dataframe tbody tr th {\n        vertical-align: top;\n    }\n\n    .dataframe thead th {\n        text-align: right;\n    }\n</style>\n<table border=\"1\" class=\"dataframe\">\n  <thead>\n    <tr style=\"text-align: right;\">\n      <th></th>\n      <th>Name</th>\n      <th>Brand</th>\n      <th>Description</th>\n      <th>Notes</th>\n      <th>Image URL</th>\n    </tr>\n  </thead>\n  <tbody>\n    <tr>\n      <th>0</th>\n      <td>Tihota Eau de Parfum</td>\n      <td>Indult</td>\n      <td>Rapa Nui for sugar, Tihota is, quite simply, ...</td>\n      <td>Vanilla bean, musks</td>\n      <td>https://static.luckyscent.com/images/products/...</td>\n    </tr>\n    <tr>\n      <th>1</th>\n      <td>Sola Parfum</td>\n      <td>Di Ser</td>\n      <td>A tribute to the expanse of space extending f...</td>\n      <td>Lavender, Yuzu, Lemongrass, Magnolia, Geraniu...</td>\n      <td>https://static.luckyscent.com/images/products/...</td>\n    </tr>\n    <tr>\n      <th>2</th>\n      <td>Kagiroi Parfum</td>\n      <td>Di Ser</td>\n      <td>An aromatic ode to the ancient beauty of Japa...</td>\n      <td>Green yuzu, green shikuwasa, sansho seed, cor...</td>\n      <td>https://static.luckyscent.com/images/products/...</td>\n    </tr>\n    <tr>\n      <th>3</th>\n      <td>Velvet Fantasy Eau de Parfum</td>\n      <td>Montale</td>\n      <td>Velvet Fantasy is a solar fragrance where cit...</td>\n      <td>tangerine,  pink pepper,  black coffee,  leat...</td>\n      <td>https://static.luckyscent.com/images/products/...</td>\n    </tr>\n    <tr>\n      <th>4</th>\n      <td>A Blvd. Called Sunset Eau de Parfum</td>\n      <td>A Lab on Fire</td>\n      <td>There's no way A Lab On Fire could relocate t...</td>\n      <td>Bergamot, almond, violet, jasmine, leather, s...</td>\n      <td>https://static.luckyscent.com/images/products/...</td>\n    </tr>\n    <tr>\n      <th>...</th>\n      <td>...</td>\n      <td>...</td>\n      <td>...</td>\n      <td>...</td>\n      <td>...</td>\n    </tr>\n    <tr>\n      <th>2106</th>\n      <td>Perfect Veil Eau de Parfum</td>\n      <td>Sarah Horowitz Parfums</td>\n      <td>This was created to smell like clean, naked s...</td>\n      <td>top: lemon, bergamot base: musk, vanilla, san...</td>\n      <td>https://static.luckyscent.com/images/products/...</td>\n    </tr>\n    <tr>\n      <th>2107</th>\n      <td>Scent Eau de Parfum</td>\n      <td>Costume National</td>\n      <td>Scent is Costume Nationals debut fragrance. W...</td>\n      <td>amber, jasmine tea, mother of pearl hibiscus ...</td>\n      <td>https://static.luckyscent.com/images/products/...</td>\n    </tr>\n    <tr>\n      <th>2108</th>\n      <td>Bronze Eau de Parfum</td>\n      <td>Nanadebary</td>\n      <td>Bronze is a naughty little vixen of a scent, ...</td>\n      <td>bergamot, mandarine, cinnamon, jasmine, iris,...</td>\n      <td>https://static.luckyscent.com/images/products/...</td>\n    </tr>\n    <tr>\n      <th>2109</th>\n      <td>Monyette Paris Fragrance Oil</td>\n      <td>Monyette Paris</td>\n      <td>This isn't just sexy, it's big night out sexy...</td>\n      <td>Tahitian gardenia, French muguet du bois, hin...</td>\n      <td>https://static.luckyscent.com/images/products/...</td>\n    </tr>\n    <tr>\n      <th>2110</th>\n      <td>1270 Eau de Parfum</td>\n      <td>Frapin</td>\n      <td>Named for the year the Frapin family establis...</td>\n      <td>exotic woods, spice, raisin, vine flowers, pe...</td>\n      <td>https://static.luckyscent.com/images/products/...</td>\n    </tr>\n  </tbody>\n</table>\n<p>2111 rows × 5 columns</p>\n</div>"
     },
     "execution_count": 27,
     "metadata": {},
     "output_type": "execute_result"
    }
   ],
   "source": [
    "data['Description'] = data['Description'].str.replace(f'[{chr(65533)}\\n]', ' ')\n",
    "data['Description'] = data['Description'].str.replace(' +', ' ')\n",
    "data"
   ],
   "metadata": {
    "collapsed": false,
    "pycharm": {
     "name": "#%%\n"
    }
   }
  },
  {
   "cell_type": "code",
   "execution_count": 28,
   "outputs": [],
   "source": [
    "data.to_csv('../src/database/final_perfume_data_clean.csv', index=False)"
   ],
   "metadata": {
    "collapsed": false,
    "pycharm": {
     "name": "#%%\n"
    }
   }
  },
  {
   "cell_type": "code",
   "execution_count": null,
   "outputs": [],
   "source": [],
   "metadata": {
    "collapsed": false,
    "pycharm": {
     "name": "#%%\n"
    }
   }
  }
 ],
 "metadata": {
  "kernelspec": {
   "display_name": "Python 3",
   "language": "python",
   "name": "python3"
  },
  "language_info": {
   "codemirror_mode": {
    "name": "ipython",
    "version": 2
   },
   "file_extension": ".py",
   "mimetype": "text/x-python",
   "name": "python",
   "nbconvert_exporter": "python",
   "pygments_lexer": "ipython2",
   "version": "2.7.6"
  }
 },
 "nbformat": 4,
 "nbformat_minor": 0
}