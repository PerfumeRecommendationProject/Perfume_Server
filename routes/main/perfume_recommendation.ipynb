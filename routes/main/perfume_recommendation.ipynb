{
  "nbformat": 4,
  "nbformat_minor": 0,
  "metadata": {
    "colab": {
      "name": "perfume_recommendation.ipynb",
      "provenance": [],
      "collapsed_sections": []
    },
    "kernelspec": {
      "name": "python3",
      "display_name": "Python 3"
    },
    "language_info": {
      "name": "python"
    }
  },
  "cells": [
    {
      "cell_type": "code",
      "metadata": {
        "id": "0760Kc7PlYUo"
      },
      "source": [
        "import pandas as pd\n",
        "data = pd.read_csv('/content/final_perfume_data.csv', encoding='latin-1')"
      ],
      "execution_count": 16,
      "outputs": []
    },
    {
      "cell_type": "code",
      "metadata": {
        "colab": {
          "base_uri": "https://localhost:8080/",
          "height": 419
        },
        "id": "Jf3mxE5glvzA",
        "outputId": "81c98f07-c5c8-4a38-fd54-7a2c18eb8f0a"
      },
      "source": [
        "data"
      ],
      "execution_count": 17,
      "outputs": [
        {
          "output_type": "execute_result",
          "data": {
            "text/html": [
              "<div>\n",
              "<style scoped>\n",
              "    .dataframe tbody tr th:only-of-type {\n",
              "        vertical-align: middle;\n",
              "    }\n",
              "\n",
              "    .dataframe tbody tr th {\n",
              "        vertical-align: top;\n",
              "    }\n",
              "\n",
              "    .dataframe thead th {\n",
              "        text-align: right;\n",
              "    }\n",
              "</style>\n",
              "<table border=\"1\" class=\"dataframe\">\n",
              "  <thead>\n",
              "    <tr style=\"text-align: right;\">\n",
              "      <th></th>\n",
              "      <th>Name</th>\n",
              "      <th>Brand</th>\n",
              "      <th>Description</th>\n",
              "      <th>Notes</th>\n",
              "      <th>Image URL</th>\n",
              "    </tr>\n",
              "  </thead>\n",
              "  <tbody>\n",
              "    <tr>\n",
              "      <th>0</th>\n",
              "      <td>Tihota Eau de Parfum</td>\n",
              "      <td>Indult</td>\n",
              "      <td>Rapa Nui for sugar, Tihota is, quite simply, ...</td>\n",
              "      <td>Vanilla bean, musks</td>\n",
              "      <td>https://static.luckyscent.com/images/products/...</td>\n",
              "    </tr>\n",
              "    <tr>\n",
              "      <th>1</th>\n",
              "      <td>Sola Parfum</td>\n",
              "      <td>Di Ser</td>\n",
              "      <td>A tribute to the expanse of space extending f...</td>\n",
              "      <td>Lavender, Yuzu, Lemongrass, Magnolia, Geraniu...</td>\n",
              "      <td>https://static.luckyscent.com/images/products/...</td>\n",
              "    </tr>\n",
              "    <tr>\n",
              "      <th>2</th>\n",
              "      <td>Kagiroi Parfum</td>\n",
              "      <td>Di Ser</td>\n",
              "      <td>An aromatic ode to the ancient beauty of Japa...</td>\n",
              "      <td>Green yuzu, green shikuwasa, sansho seed, cor...</td>\n",
              "      <td>https://static.luckyscent.com/images/products/...</td>\n",
              "    </tr>\n",
              "    <tr>\n",
              "      <th>3</th>\n",
              "      <td>Velvet Fantasy Eau de Parfum</td>\n",
              "      <td>Montale</td>\n",
              "      <td>Velvet Fantasy is a solar fragrance where cit...</td>\n",
              "      <td>tangerine,  pink pepper,  black coffee,  leat...</td>\n",
              "      <td>https://static.luckyscent.com/images/products/...</td>\n",
              "    </tr>\n",
              "    <tr>\n",
              "      <th>4</th>\n",
              "      <td>A Blvd. Called Sunset Eau de Parfum</td>\n",
              "      <td>A Lab on Fire</td>\n",
              "      <td>There's no way A Lab On Fire could relocate t...</td>\n",
              "      <td>Bergamot, almond, violet, jasmine, leather, s...</td>\n",
              "      <td>https://static.luckyscent.com/images/products/...</td>\n",
              "    </tr>\n",
              "    <tr>\n",
              "      <th>...</th>\n",
              "      <td>...</td>\n",
              "      <td>...</td>\n",
              "      <td>...</td>\n",
              "      <td>...</td>\n",
              "      <td>...</td>\n",
              "    </tr>\n",
              "    <tr>\n",
              "      <th>2186</th>\n",
              "      <td>Perfect Veil Eau de Parfum</td>\n",
              "      <td>Sarah Horowitz Parfums</td>\n",
              "      <td>This was created to smell like clean, naked s...</td>\n",
              "      <td>top: lemon, bergamot base: musk, vanilla, san...</td>\n",
              "      <td>https://static.luckyscent.com/images/products/...</td>\n",
              "    </tr>\n",
              "    <tr>\n",
              "      <th>2187</th>\n",
              "      <td>Scent Eau de Parfum</td>\n",
              "      <td>Costume National</td>\n",
              "      <td>Scent is Costume Nationals debut fragrance. W...</td>\n",
              "      <td>amber, jasmine tea, mother of pearl hibiscus ...</td>\n",
              "      <td>https://static.luckyscent.com/images/products/...</td>\n",
              "    </tr>\n",
              "    <tr>\n",
              "      <th>2188</th>\n",
              "      <td>Bronze Eau de Parfum</td>\n",
              "      <td>Nanadebary</td>\n",
              "      <td>Bronze is a naughty little vixen of a scent, ...</td>\n",
              "      <td>bergamot, mandarine, cinnamon, jasmine, iris,...</td>\n",
              "      <td>https://static.luckyscent.com/images/products/...</td>\n",
              "    </tr>\n",
              "    <tr>\n",
              "      <th>2189</th>\n",
              "      <td>Monyette Paris Fragrance Oil</td>\n",
              "      <td>Monyette Paris</td>\n",
              "      <td>This isn't just sexy, it's big night out se...</td>\n",
              "      <td>Tahitian gardenia, French muguet du bois, hin...</td>\n",
              "      <td>https://static.luckyscent.com/images/products/...</td>\n",
              "    </tr>\n",
              "    <tr>\n",
              "      <th>2190</th>\n",
              "      <td>1270 Eau de Parfum</td>\n",
              "      <td>Frapin</td>\n",
              "      <td>Named for the year the Frapin family establis...</td>\n",
              "      <td>exotic woods, spice, raisin, vine flowers, pe...</td>\n",
              "      <td>https://static.luckyscent.com/images/products/...</td>\n",
              "    </tr>\n",
              "  </tbody>\n",
              "</table>\n",
              "<p>2191 rows × 5 columns</p>\n",
              "</div>"
            ],
            "text/plain": [
              "                                     Name  ...                                          Image URL\n",
              "0                    Tihota Eau de Parfum  ...  https://static.luckyscent.com/images/products/...\n",
              "1                             Sola Parfum  ...  https://static.luckyscent.com/images/products/...\n",
              "2                          Kagiroi Parfum  ...  https://static.luckyscent.com/images/products/...\n",
              "3            Velvet Fantasy Eau de Parfum  ...  https://static.luckyscent.com/images/products/...\n",
              "4     A Blvd. Called Sunset Eau de Parfum  ...  https://static.luckyscent.com/images/products/...\n",
              "...                                   ...  ...                                                ...\n",
              "2186           Perfect Veil Eau de Parfum  ...  https://static.luckyscent.com/images/products/...\n",
              "2187                  Scent Eau de Parfum  ...  https://static.luckyscent.com/images/products/...\n",
              "2188                 Bronze Eau de Parfum  ...  https://static.luckyscent.com/images/products/...\n",
              "2189         Monyette Paris Fragrance Oil  ...  https://static.luckyscent.com/images/products/...\n",
              "2190                   1270 Eau de Parfum  ...  https://static.luckyscent.com/images/products/...\n",
              "\n",
              "[2191 rows x 5 columns]"
            ]
          },
          "metadata": {
            "tags": []
          },
          "execution_count": 17
        }
      ]
    },
    {
      "cell_type": "code",
      "metadata": {
        "colab": {
          "base_uri": "https://localhost:8080/",
          "height": 419
        },
        "id": "twMDN6IOmGuO",
        "outputId": "0f2b8ffc-a128-4046-bade-cc8236c8681d"
      },
      "source": [
        "text = data[['Description']]\n",
        "text.columns = ['description']\n",
        "text"
      ],
      "execution_count": 18,
      "outputs": [
        {
          "output_type": "execute_result",
          "data": {
            "text/html": [
              "<div>\n",
              "<style scoped>\n",
              "    .dataframe tbody tr th:only-of-type {\n",
              "        vertical-align: middle;\n",
              "    }\n",
              "\n",
              "    .dataframe tbody tr th {\n",
              "        vertical-align: top;\n",
              "    }\n",
              "\n",
              "    .dataframe thead th {\n",
              "        text-align: right;\n",
              "    }\n",
              "</style>\n",
              "<table border=\"1\" class=\"dataframe\">\n",
              "  <thead>\n",
              "    <tr style=\"text-align: right;\">\n",
              "      <th></th>\n",
              "      <th>description</th>\n",
              "    </tr>\n",
              "  </thead>\n",
              "  <tbody>\n",
              "    <tr>\n",
              "      <th>0</th>\n",
              "      <td>Rapa Nui for sugar, Tihota is, quite simply, ...</td>\n",
              "    </tr>\n",
              "    <tr>\n",
              "      <th>1</th>\n",
              "      <td>A tribute to the expanse of space extending f...</td>\n",
              "    </tr>\n",
              "    <tr>\n",
              "      <th>2</th>\n",
              "      <td>An aromatic ode to the ancient beauty of Japa...</td>\n",
              "    </tr>\n",
              "    <tr>\n",
              "      <th>3</th>\n",
              "      <td>Velvet Fantasy is a solar fragrance where cit...</td>\n",
              "    </tr>\n",
              "    <tr>\n",
              "      <th>4</th>\n",
              "      <td>There's no way A Lab On Fire could relocate t...</td>\n",
              "    </tr>\n",
              "    <tr>\n",
              "      <th>...</th>\n",
              "      <td>...</td>\n",
              "    </tr>\n",
              "    <tr>\n",
              "      <th>2186</th>\n",
              "      <td>This was created to smell like clean, naked s...</td>\n",
              "    </tr>\n",
              "    <tr>\n",
              "      <th>2187</th>\n",
              "      <td>Scent is Costume Nationals debut fragrance. W...</td>\n",
              "    </tr>\n",
              "    <tr>\n",
              "      <th>2188</th>\n",
              "      <td>Bronze is a naughty little vixen of a scent, ...</td>\n",
              "    </tr>\n",
              "    <tr>\n",
              "      <th>2189</th>\n",
              "      <td>This isn't just sexy, it's big night out se...</td>\n",
              "    </tr>\n",
              "    <tr>\n",
              "      <th>2190</th>\n",
              "      <td>Named for the year the Frapin family establis...</td>\n",
              "    </tr>\n",
              "  </tbody>\n",
              "</table>\n",
              "<p>2191 rows × 1 columns</p>\n",
              "</div>"
            ],
            "text/plain": [
              "                                            description\n",
              "0      Rapa Nui for sugar, Tihota is, quite simply, ...\n",
              "1      A tribute to the expanse of space extending f...\n",
              "2      An aromatic ode to the ancient beauty of Japa...\n",
              "3      Velvet Fantasy is a solar fragrance where cit...\n",
              "4      There's no way A Lab On Fire could relocate t...\n",
              "...                                                 ...\n",
              "2186   This was created to smell like clean, naked s...\n",
              "2187   Scent is Costume Nationals debut fragrance. W...\n",
              "2188   Bronze is a naughty little vixen of a scent, ...\n",
              "2189   This isn't just sexy, it's big night out se...\n",
              "2190   Named for the year the Frapin family establis...\n",
              "\n",
              "[2191 rows x 1 columns]"
            ]
          },
          "metadata": {
            "tags": []
          },
          "execution_count": 18
        }
      ]
    },
    {
      "cell_type": "code",
      "metadata": {
        "id": "88h1BLv_mLNG"
      },
      "source": [
        "import numpy as np\n",
        "import matplotlib.pyplot as plt\n",
        "import re\n",
        "from PIL import Image\n",
        "from io import BytesIO\n",
        "from nltk.tokenize import RegexpTokenizer, word_tokenize\n",
        "import nltk\n",
        "from nltk.corpus import stopwords"
      ],
      "execution_count": 19,
      "outputs": []
    },
    {
      "cell_type": "code",
      "metadata": {
        "id": "RM8UEIEkmOeo"
      },
      "source": [
        "# nltk.download('stopwords')\n",
        "# nltk.download('punkt')\n",
        "stop_word = stopwords.words('english')\n"
      ],
      "execution_count": 20,
      "outputs": []
    },
    {
      "cell_type": "code",
      "metadata": {
        "colab": {
          "base_uri": "https://localhost:8080/",
          "height": 419
        },
        "id": "3tViOPpomUUP",
        "outputId": "697aeabf-bebb-4eff-e624-37d615134f26"
      },
      "source": [
        "text['clean_docs'] = text['description'].str.replace(r'[^a-zA-Z]', ' ')\n",
        "text['clean_docs'] = text['clean_docs'].str.lower()\n",
        "text"
      ],
      "execution_count": 52,
      "outputs": [
        {
          "output_type": "execute_result",
          "data": {
            "text/html": [
              "<div>\n",
              "<style scoped>\n",
              "    .dataframe tbody tr th:only-of-type {\n",
              "        vertical-align: middle;\n",
              "    }\n",
              "\n",
              "    .dataframe tbody tr th {\n",
              "        vertical-align: top;\n",
              "    }\n",
              "\n",
              "    .dataframe thead th {\n",
              "        text-align: right;\n",
              "    }\n",
              "</style>\n",
              "<table border=\"1\" class=\"dataframe\">\n",
              "  <thead>\n",
              "    <tr style=\"text-align: right;\">\n",
              "      <th></th>\n",
              "      <th>description</th>\n",
              "      <th>clean_docs</th>\n",
              "    </tr>\n",
              "  </thead>\n",
              "  <tbody>\n",
              "    <tr>\n",
              "      <th>0</th>\n",
              "      <td>Rapa Nui for sugar, Tihota is, quite simply, ...</td>\n",
              "      <td>rapa nui for sugar  tihota is  quite simply  ...</td>\n",
              "    </tr>\n",
              "    <tr>\n",
              "      <th>1</th>\n",
              "      <td>A tribute to the expanse of space extending f...</td>\n",
              "      <td>a tribute to the expanse of space extending f...</td>\n",
              "    </tr>\n",
              "    <tr>\n",
              "      <th>2</th>\n",
              "      <td>An aromatic ode to the ancient beauty of Japa...</td>\n",
              "      <td>an aromatic ode to the ancient beauty of japa...</td>\n",
              "    </tr>\n",
              "    <tr>\n",
              "      <th>3</th>\n",
              "      <td>Velvet Fantasy is a solar fragrance where cit...</td>\n",
              "      <td>velvet fantasy is a solar fragrance where cit...</td>\n",
              "    </tr>\n",
              "    <tr>\n",
              "      <th>4</th>\n",
              "      <td>There's no way A Lab On Fire could relocate t...</td>\n",
              "      <td>there s no way a lab on fire could relocate t...</td>\n",
              "    </tr>\n",
              "    <tr>\n",
              "      <th>...</th>\n",
              "      <td>...</td>\n",
              "      <td>...</td>\n",
              "    </tr>\n",
              "    <tr>\n",
              "      <th>2186</th>\n",
              "      <td>This was created to smell like clean, naked s...</td>\n",
              "      <td>this was created to smell like clean  naked s...</td>\n",
              "    </tr>\n",
              "    <tr>\n",
              "      <th>2187</th>\n",
              "      <td>Scent is Costume Nationals debut fragrance. W...</td>\n",
              "      <td>scent is costume nationals debut fragrance  w...</td>\n",
              "    </tr>\n",
              "    <tr>\n",
              "      <th>2188</th>\n",
              "      <td>Bronze is a naughty little vixen of a scent, ...</td>\n",
              "      <td>bronze is a naughty little vixen of a scent  ...</td>\n",
              "    </tr>\n",
              "    <tr>\n",
              "      <th>2189</th>\n",
              "      <td>This isn't just sexy, it's big night out se...</td>\n",
              "      <td>this isn t just sexy  it s  big night out  se...</td>\n",
              "    </tr>\n",
              "    <tr>\n",
              "      <th>2190</th>\n",
              "      <td>Named for the year the Frapin family establis...</td>\n",
              "      <td>named for the year the frapin family establis...</td>\n",
              "    </tr>\n",
              "  </tbody>\n",
              "</table>\n",
              "<p>2191 rows × 2 columns</p>\n",
              "</div>"
            ],
            "text/plain": [
              "                                            description                                         clean_docs\n",
              "0      Rapa Nui for sugar, Tihota is, quite simply, ...   rapa nui for sugar  tihota is  quite simply  ...\n",
              "1      A tribute to the expanse of space extending f...   a tribute to the expanse of space extending f...\n",
              "2      An aromatic ode to the ancient beauty of Japa...   an aromatic ode to the ancient beauty of japa...\n",
              "3      Velvet Fantasy is a solar fragrance where cit...   velvet fantasy is a solar fragrance where cit...\n",
              "4      There's no way A Lab On Fire could relocate t...   there s no way a lab on fire could relocate t...\n",
              "...                                                 ...                                                ...\n",
              "2186   This was created to smell like clean, naked s...   this was created to smell like clean  naked s...\n",
              "2187   Scent is Costume Nationals debut fragrance. W...   scent is costume nationals debut fragrance  w...\n",
              "2188   Bronze is a naughty little vixen of a scent, ...   bronze is a naughty little vixen of a scent  ...\n",
              "2189   This isn't just sexy, it's big night out se...   this isn t just sexy  it s  big night out  se...\n",
              "2190   Named for the year the Frapin family establis...   named for the year the frapin family establis...\n",
              "\n",
              "[2191 rows x 2 columns]"
            ]
          },
          "metadata": {
            "tags": []
          },
          "execution_count": 52
        }
      ]
    },
    {
      "cell_type": "code",
      "metadata": {
        "colab": {
          "base_uri": "https://localhost:8080/",
          "height": 419
        },
        "id": "Uei8V_uEmZn2",
        "outputId": "95102705-7eb3-4646-a30d-4f38237759c4"
      },
      "source": [
        "text['clean_docs'] = text['clean_docs'].apply(lambda x: [w for w in word_tokenize(x) if w not in stop_word and len(w)>2])\n",
        "text"
      ],
      "execution_count": 53,
      "outputs": [
        {
          "output_type": "execute_result",
          "data": {
            "text/html": [
              "<div>\n",
              "<style scoped>\n",
              "    .dataframe tbody tr th:only-of-type {\n",
              "        vertical-align: middle;\n",
              "    }\n",
              "\n",
              "    .dataframe tbody tr th {\n",
              "        vertical-align: top;\n",
              "    }\n",
              "\n",
              "    .dataframe thead th {\n",
              "        text-align: right;\n",
              "    }\n",
              "</style>\n",
              "<table border=\"1\" class=\"dataframe\">\n",
              "  <thead>\n",
              "    <tr style=\"text-align: right;\">\n",
              "      <th></th>\n",
              "      <th>description</th>\n",
              "      <th>clean_docs</th>\n",
              "    </tr>\n",
              "  </thead>\n",
              "  <tbody>\n",
              "    <tr>\n",
              "      <th>0</th>\n",
              "      <td>Rapa Nui for sugar, Tihota is, quite simply, ...</td>\n",
              "      <td>[rapa, nui, sugar, tihota, quite, simply, one,...</td>\n",
              "    </tr>\n",
              "    <tr>\n",
              "      <th>1</th>\n",
              "      <td>A tribute to the expanse of space extending f...</td>\n",
              "      <td>[tribute, expanse, space, extending, sky, flow...</td>\n",
              "    </tr>\n",
              "    <tr>\n",
              "      <th>2</th>\n",
              "      <td>An aromatic ode to the ancient beauty of Japa...</td>\n",
              "      <td>[aromatic, ode, ancient, beauty, japan, kagiro...</td>\n",
              "    </tr>\n",
              "    <tr>\n",
              "      <th>3</th>\n",
              "      <td>Velvet Fantasy is a solar fragrance where cit...</td>\n",
              "      <td>[velvet, fantasy, solar, fragrance, citrus, ve...</td>\n",
              "    </tr>\n",
              "    <tr>\n",
              "      <th>4</th>\n",
              "      <td>There's no way A Lab On Fire could relocate t...</td>\n",
              "      <td>[way, lab, fire, could, relocate, los, angeles...</td>\n",
              "    </tr>\n",
              "    <tr>\n",
              "      <th>...</th>\n",
              "      <td>...</td>\n",
              "      <td>...</td>\n",
              "    </tr>\n",
              "    <tr>\n",
              "      <th>2186</th>\n",
              "      <td>This was created to smell like clean, naked s...</td>\n",
              "      <td>[created, smell, like, clean, naked, skin, hon...</td>\n",
              "    </tr>\n",
              "    <tr>\n",
              "      <th>2187</th>\n",
              "      <td>Scent is Costume Nationals debut fragrance. W...</td>\n",
              "      <td>[scent, costume, nationals, debut, fragrance, ...</td>\n",
              "    </tr>\n",
              "    <tr>\n",
              "      <th>2188</th>\n",
              "      <td>Bronze is a naughty little vixen of a scent, ...</td>\n",
              "      <td>[bronze, naughty, little, vixen, scent, slinki...</td>\n",
              "    </tr>\n",
              "    <tr>\n",
              "      <th>2189</th>\n",
              "      <td>This isn't just sexy, it's big night out se...</td>\n",
              "      <td>[sexy, big, night, sexy, reel, sexy, amazing, ...</td>\n",
              "    </tr>\n",
              "    <tr>\n",
              "      <th>2190</th>\n",
              "      <td>Named for the year the Frapin family establis...</td>\n",
              "      <td>[named, year, frapin, family, established, cog...</td>\n",
              "    </tr>\n",
              "  </tbody>\n",
              "</table>\n",
              "<p>2191 rows × 2 columns</p>\n",
              "</div>"
            ],
            "text/plain": [
              "                                            description                                         clean_docs\n",
              "0      Rapa Nui for sugar, Tihota is, quite simply, ...  [rapa, nui, sugar, tihota, quite, simply, one,...\n",
              "1      A tribute to the expanse of space extending f...  [tribute, expanse, space, extending, sky, flow...\n",
              "2      An aromatic ode to the ancient beauty of Japa...  [aromatic, ode, ancient, beauty, japan, kagiro...\n",
              "3      Velvet Fantasy is a solar fragrance where cit...  [velvet, fantasy, solar, fragrance, citrus, ve...\n",
              "4      There's no way A Lab On Fire could relocate t...  [way, lab, fire, could, relocate, los, angeles...\n",
              "...                                                 ...                                                ...\n",
              "2186   This was created to smell like clean, naked s...  [created, smell, like, clean, naked, skin, hon...\n",
              "2187   Scent is Costume Nationals debut fragrance. W...  [scent, costume, nationals, debut, fragrance, ...\n",
              "2188   Bronze is a naughty little vixen of a scent, ...  [bronze, naughty, little, vixen, scent, slinki...\n",
              "2189   This isn't just sexy, it's big night out se...  [sexy, big, night, sexy, reel, sexy, amazing, ...\n",
              "2190   Named for the year the Frapin family establis...  [named, year, frapin, family, established, cog...\n",
              "\n",
              "[2191 rows x 2 columns]"
            ]
          },
          "metadata": {
            "tags": []
          },
          "execution_count": 53
        }
      ]
    },
    {
      "cell_type": "code",
      "metadata": {
        "colab": {
          "base_uri": "https://localhost:8080/"
        },
        "id": "ZbBPcmggrQTR",
        "outputId": "68cec44c-db6e-4c7d-8980-3a985a45cebc"
      },
      "source": [
        "print(text['description'][127])\n",
        "print(text.loc[127])"
      ],
      "execution_count": 54,
      "outputs": [
        {
          "output_type": "stream",
          "text": [
            " Passionate about native flora, Thays created unique parks. We have imagined the improbable encounters of multiple odors in his enchanting gardens. Originally born in France, Carlos Thays nevertheless was as true an Argentine as lived, with his landscape and park designs forming a significant and lasting element of Buenos Aires and beyond, parks that still have the capacity to enchant and amaze. To represent this in fragrance, Fueguia merges the delicate tones of mate flowers mingling with lush, creamy osmanthus and the vivid freshness of green tea. One sniff, and you're wandering the the Roman gardens of the Jardin Botanico, Thays' mansion ahead of you, lost in the natural splendor and in love with the world.\n",
            "description     Passionate about native flora, Thays created ...\n",
            "clean_docs     [passionate, native, flora, thays, created, un...\n",
            "Name: 127, dtype: object\n"
          ],
          "name": "stdout"
        }
      ]
    },
    {
      "cell_type": "code",
      "metadata": {
        "colab": {
          "base_uri": "https://localhost:8080/",
          "height": 419
        },
        "id": "GSKAkaBFmnuO",
        "outputId": "5e83fe8c-3f65-4655-b82e-490ceadaa8f4"
      },
      "source": [
        "text['clean_docs'].replace('', np.nan, inplace=True)\n",
        "text = text[text['clean_docs'].notna()]\n",
        "text"
      ],
      "execution_count": 55,
      "outputs": [
        {
          "output_type": "execute_result",
          "data": {
            "text/html": [
              "<div>\n",
              "<style scoped>\n",
              "    .dataframe tbody tr th:only-of-type {\n",
              "        vertical-align: middle;\n",
              "    }\n",
              "\n",
              "    .dataframe tbody tr th {\n",
              "        vertical-align: top;\n",
              "    }\n",
              "\n",
              "    .dataframe thead th {\n",
              "        text-align: right;\n",
              "    }\n",
              "</style>\n",
              "<table border=\"1\" class=\"dataframe\">\n",
              "  <thead>\n",
              "    <tr style=\"text-align: right;\">\n",
              "      <th></th>\n",
              "      <th>description</th>\n",
              "      <th>clean_docs</th>\n",
              "    </tr>\n",
              "  </thead>\n",
              "  <tbody>\n",
              "    <tr>\n",
              "      <th>0</th>\n",
              "      <td>Rapa Nui for sugar, Tihota is, quite simply, ...</td>\n",
              "      <td>[rapa, nui, sugar, tihota, quite, simply, one,...</td>\n",
              "    </tr>\n",
              "    <tr>\n",
              "      <th>1</th>\n",
              "      <td>A tribute to the expanse of space extending f...</td>\n",
              "      <td>[tribute, expanse, space, extending, sky, flow...</td>\n",
              "    </tr>\n",
              "    <tr>\n",
              "      <th>2</th>\n",
              "      <td>An aromatic ode to the ancient beauty of Japa...</td>\n",
              "      <td>[aromatic, ode, ancient, beauty, japan, kagiro...</td>\n",
              "    </tr>\n",
              "    <tr>\n",
              "      <th>3</th>\n",
              "      <td>Velvet Fantasy is a solar fragrance where cit...</td>\n",
              "      <td>[velvet, fantasy, solar, fragrance, citrus, ve...</td>\n",
              "    </tr>\n",
              "    <tr>\n",
              "      <th>4</th>\n",
              "      <td>There's no way A Lab On Fire could relocate t...</td>\n",
              "      <td>[way, lab, fire, could, relocate, los, angeles...</td>\n",
              "    </tr>\n",
              "    <tr>\n",
              "      <th>...</th>\n",
              "      <td>...</td>\n",
              "      <td>...</td>\n",
              "    </tr>\n",
              "    <tr>\n",
              "      <th>2186</th>\n",
              "      <td>This was created to smell like clean, naked s...</td>\n",
              "      <td>[created, smell, like, clean, naked, skin, hon...</td>\n",
              "    </tr>\n",
              "    <tr>\n",
              "      <th>2187</th>\n",
              "      <td>Scent is Costume Nationals debut fragrance. W...</td>\n",
              "      <td>[scent, costume, nationals, debut, fragrance, ...</td>\n",
              "    </tr>\n",
              "    <tr>\n",
              "      <th>2188</th>\n",
              "      <td>Bronze is a naughty little vixen of a scent, ...</td>\n",
              "      <td>[bronze, naughty, little, vixen, scent, slinki...</td>\n",
              "    </tr>\n",
              "    <tr>\n",
              "      <th>2189</th>\n",
              "      <td>This isn't just sexy, it's big night out se...</td>\n",
              "      <td>[sexy, big, night, sexy, reel, sexy, amazing, ...</td>\n",
              "    </tr>\n",
              "    <tr>\n",
              "      <th>2190</th>\n",
              "      <td>Named for the year the Frapin family establis...</td>\n",
              "      <td>[named, year, frapin, family, established, cog...</td>\n",
              "    </tr>\n",
              "  </tbody>\n",
              "</table>\n",
              "<p>2191 rows × 2 columns</p>\n",
              "</div>"
            ],
            "text/plain": [
              "                                            description                                         clean_docs\n",
              "0      Rapa Nui for sugar, Tihota is, quite simply, ...  [rapa, nui, sugar, tihota, quite, simply, one,...\n",
              "1      A tribute to the expanse of space extending f...  [tribute, expanse, space, extending, sky, flow...\n",
              "2      An aromatic ode to the ancient beauty of Japa...  [aromatic, ode, ancient, beauty, japan, kagiro...\n",
              "3      Velvet Fantasy is a solar fragrance where cit...  [velvet, fantasy, solar, fragrance, citrus, ve...\n",
              "4      There's no way A Lab On Fire could relocate t...  [way, lab, fire, could, relocate, los, angeles...\n",
              "...                                                 ...                                                ...\n",
              "2186   This was created to smell like clean, naked s...  [created, smell, like, clean, naked, skin, hon...\n",
              "2187   Scent is Costume Nationals debut fragrance. W...  [scent, costume, nationals, debut, fragrance, ...\n",
              "2188   Bronze is a naughty little vixen of a scent, ...  [bronze, naughty, little, vixen, scent, slinki...\n",
              "2189   This isn't just sexy, it's big night out se...  [sexy, big, night, sexy, reel, sexy, amazing, ...\n",
              "2190   Named for the year the Frapin family establis...  [named, year, frapin, family, established, cog...\n",
              "\n",
              "[2191 rows x 2 columns]"
            ]
          },
          "metadata": {
            "tags": []
          },
          "execution_count": 55
        }
      ]
    },
    {
      "cell_type": "code",
      "metadata": {
        "colab": {
          "base_uri": "https://localhost:8080/"
        },
        "id": "0MTw9qbKmrc1",
        "outputId": "e76630f0-3e02-4b48-f3f5-2fcea3d4535f"
      },
      "source": [
        "import urllib.request\n",
        "urllib.request.urlretrieve(\"https://s3.amazonaws.com/dl4j-distribution/GoogleNews-vectors-negative300.bin.gz\", \\\n",
        "                           filename=\"GoogleNews-vectors-negative300.bin.gz\")"
      ],
      "execution_count": 45,
      "outputs": [
        {
          "output_type": "execute_result",
          "data": {
            "text/plain": [
              "('GoogleNews-vectors-negative300.bin.gz',\n",
              " <http.client.HTTPMessage at 0x7f0869460c90>)"
            ]
          },
          "metadata": {
            "tags": []
          },
          "execution_count": 45
        }
      ]
    },
    {
      "cell_type": "code",
      "metadata": {
        "colab": {
          "base_uri": "https://localhost:8080/"
        },
        "id": "RN_ZVoJJovIR",
        "outputId": "63d5d21e-401b-44e0-b36a-5f9cf408d5a9"
      },
      "source": [
        "corpus = [word for word in text['clean_docs']]\n",
        "corpus[:3]\n",
        "print(len(corpus))"
      ],
      "execution_count": 60,
      "outputs": [
        {
          "output_type": "stream",
          "text": [
            "2191\n"
          ],
          "name": "stdout"
        }
      ]
    },
    {
      "cell_type": "code",
      "metadata": {
        "id": "X2CGeiS8mww6"
      },
      "source": [
        "from gensim.models import Word2Vec\n",
        "w2v_model = Word2Vec(size=300, window=5, min_count=2, workers=-1)"
      ],
      "execution_count": 58,
      "outputs": []
    },
    {
      "cell_type": "code",
      "metadata": {
        "id": "y6MMJmnAnKYK"
      },
      "source": [
        "w2v_model.build_vocab(corpus)"
      ],
      "execution_count": 59,
      "outputs": []
    },
    {
      "cell_type": "code",
      "metadata": {
        "id": "Q8ksTWmynPgx"
      },
      "source": [
        "w2v_model.intersect_word2vec_format('GoogleNews-vectors-negative300.bin.gz', lockf=1.0, binary=True)"
      ],
      "execution_count": 63,
      "outputs": []
    },
    {
      "cell_type": "code",
      "metadata": {
        "colab": {
          "base_uri": "https://localhost:8080/"
        },
        "id": "XdwG6PjgnYhG",
        "outputId": "0a8d20a5-db81-4db2-c563-443ea64ad13d"
      },
      "source": [
        "w2v_model.train(corpus, total_examples=w2v_model.corpus_count, epochs=15)"
      ],
      "execution_count": 64,
      "outputs": [
        {
          "output_type": "execute_result",
          "data": {
            "text/plain": [
              "(0, 0)"
            ]
          },
          "metadata": {
            "tags": []
          },
          "execution_count": 64
        }
      ]
    },
    {
      "cell_type": "code",
      "metadata": {
        "colab": {
          "base_uri": "https://localhost:8080/"
        },
        "id": "fmyf2zL0oYRE",
        "outputId": "9fb52fb5-ecdc-4fc2-ff75-12a800e70aa3"
      },
      "source": [
        "w2v_model.wv.most_similar('tihota')"
      ],
      "execution_count": 69,
      "outputs": [
        {
          "output_type": "execute_result",
          "data": {
            "text/plain": [
              "[('illicit', 0.19407272338867188),\n",
              " ('stony', 0.19377097487449646),\n",
              " ('unconventional', 0.18916842341423035),\n",
              " ('tempering', 0.18904151022434235),\n",
              " ('occasion', 0.1883271336555481),\n",
              " ('undercurrent', 0.1860732138156891),\n",
              " ('gathering', 0.18290375173091888),\n",
              " ('exuberant', 0.18240675330162048),\n",
              " ('adventurous', 0.181054025888443),\n",
              " ('reward', 0.1798231601715088)]"
            ]
          },
          "metadata": {
            "tags": []
          },
          "execution_count": 69
        }
      ]
    },
    {
      "cell_type": "code",
      "metadata": {
        "colab": {
          "base_uri": "https://localhost:8080/"
        },
        "id": "IVYPvY3swVvg",
        "outputId": "035a7b7e-216b-4314-ab93-a2bfe499fa72"
      },
      "source": [
        "def count_word(word):\n",
        "    return sum([docs.count(word) for docs in text['clean_docs']])\n",
        "\n",
        "count_word('tihota')"
      ],
      "execution_count": 68,
      "outputs": [
        {
          "output_type": "execute_result",
          "data": {
            "text/plain": [
              "4"
            ]
          },
          "metadata": {
            "tags": []
          },
          "execution_count": 68
        }
      ]
    },
    {
      "cell_type": "code",
      "metadata": {
        "id": "ha3-JLwsoimY"
      },
      "source": [
        "w2v_model.wv.save_word2vec_format('perfume_w2v')"
      ],
      "execution_count": 93,
      "outputs": []
    },
    {
      "cell_type": "code",
      "metadata": {
        "colab": {
          "base_uri": "https://localhost:8080/"
        },
        "id": "c7SMpy2mqg8P",
        "outputId": "cb03d20f-6ba6-4d02-dc19-08857860907e"
      },
      "source": [
        "w2v_model.wv.most_similar('citrus')"
      ],
      "execution_count": 70,
      "outputs": [
        {
          "output_type": "execute_result",
          "data": {
            "text/plain": [
              "[('grape', 0.633855402469635),\n",
              " ('strawberry', 0.6328265070915222),\n",
              " ('grapefruit', 0.6270824670791626),\n",
              " ('tomato', 0.6158294677734375),\n",
              " ('mango', 0.6063134670257568),\n",
              " ('fruit', 0.5927562713623047),\n",
              " ('blueberry', 0.5914932489395142),\n",
              " ('oranges', 0.59128737449646),\n",
              " ('almond', 0.5883358716964722),\n",
              " ('peaches', 0.5836828351020813)]"
            ]
          },
          "metadata": {
            "tags": []
          },
          "execution_count": 70
        }
      ]
    },
    {
      "cell_type": "code",
      "metadata": {
        "colab": {
          "base_uri": "https://localhost:8080/"
        },
        "id": "rFm27L7ZsVYI",
        "outputId": "bb111f4e-184b-4747-8a47-4d623bc531fb"
      },
      "source": [
        "x = np.array([[1,2,3],[4,5,6]])\n",
        "np.mean(x, axis=0)"
      ],
      "execution_count": 84,
      "outputs": [
        {
          "output_type": "execute_result",
          "data": {
            "text/plain": [
              "array([2.5, 3.5, 4.5])"
            ]
          },
          "metadata": {
            "tags": []
          },
          "execution_count": 84
        }
      ]
    },
    {
      "cell_type": "code",
      "metadata": {
        "colab": {
          "base_uri": "https://localhost:8080/"
        },
        "id": "32uWriIPqy9z",
        "outputId": "eaa27b5f-ea3e-4100-a916-4cbdc941846b"
      },
      "source": [
        "def vectors(doc_list):\n",
        "    doc_embedding_list = []\n",
        "    for doc in doc_list:\n",
        "        doc2vec = [w2v_model[word] for word in doc \n",
        "                   if word in w2v_model.wv.vocab] or None\n",
        "        \n",
        "        if doc2vec:\n",
        "            doc_embedding_list.append(np.mean(doc2vec, axis=0))\n",
        "        \n",
        "    return doc_embedding_list\n",
        "\n",
        "doc_embedding_list = vectors(text['clean_docs'])"
      ],
      "execution_count": 71,
      "outputs": [
        {
          "output_type": "stream",
          "text": [
            "/usr/local/lib/python3.7/dist-packages/ipykernel_launcher.py:5: DeprecationWarning: Call to deprecated `__getitem__` (Method will be removed in 4.0.0, use self.wv.__getitem__() instead).\n",
            "  \"\"\"\n"
          ],
          "name": "stderr"
        }
      ]
    },
    {
      "cell_type": "code",
      "metadata": {
        "colab": {
          "base_uri": "https://localhost:8080/"
        },
        "id": "z_FQxnOasoAY",
        "outputId": "6a55ea9a-25b7-4da2-a522-3717469ae046"
      },
      "source": [
        "len(doc_embedding_list)"
      ],
      "execution_count": 72,
      "outputs": [
        {
          "output_type": "execute_result",
          "data": {
            "text/plain": [
              "2191"
            ]
          },
          "metadata": {
            "tags": []
          },
          "execution_count": 72
        }
      ]
    },
    {
      "cell_type": "code",
      "metadata": {
        "colab": {
          "base_uri": "https://localhost:8080/"
        },
        "id": "znxGgd3Ks0zY",
        "outputId": "ab33397d-af31-47a2-a88d-8d90a51d731a"
      },
      "source": [
        "from sklearn.metrics.pairwise import cosine_similarity\n",
        "\n",
        "cos_sin = cosine_similarity(doc_embedding_list, doc_embedding_list)\n",
        "cos_sin.shape"
      ],
      "execution_count": 73,
      "outputs": [
        {
          "output_type": "execute_result",
          "data": {
            "text/plain": [
              "(2191, 2191)"
            ]
          },
          "metadata": {
            "tags": []
          },
          "execution_count": 73
        }
      ]
    },
    {
      "cell_type": "code",
      "metadata": {
        "id": "ZiAxWYtVtgL3"
      },
      "source": [
        "user_input = \"It would be nice to have a refreshing scent like orange and a cool scent like the sea.\"\n",
        "user_input2 = \"Passionate about native flora, Thays created unique parks. We have imagined the improbable encounters of multiple odors in his enchanting gardens.\""
      ],
      "execution_count": 76,
      "outputs": []
    },
    {
      "cell_type": "code",
      "metadata": {
        "id": "bc62AnFnuAzB"
      },
      "source": [
        "def user_input_preprocessed(user_input):\n",
        "    res = re.sub('[^a-zA-Z]', ' ', user_input)\n",
        "    res = [w for w in word_tokenize(res.lower()) \n",
        "                if w not in stop_word and len(w)>2]\n",
        "    \n",
        "    return res"
      ],
      "execution_count": 77,
      "outputs": []
    },
    {
      "cell_type": "code",
      "metadata": {
        "id": "QY-lQDp5uSmT"
      },
      "source": [
        "user_vec = user_input_preprocessed(user_input)\n",
        "user_vec2 = user_input_preprocessed(user_input2)"
      ],
      "execution_count": 78,
      "outputs": []
    },
    {
      "cell_type": "code",
      "metadata": {
        "colab": {
          "base_uri": "https://localhost:8080/"
        },
        "id": "Rbe6QWXbxkTf",
        "outputId": "3a89b3f3-847a-4d5c-d2cf-d6b24c07e9d5"
      },
      "source": [
        "print(f'{user_vec}\\n{user_vec2}')"
      ],
      "execution_count": 79,
      "outputs": [
        {
          "output_type": "stream",
          "text": [
            "['would', 'nice', 'refreshing', 'scent', 'like', 'orange', 'cool', 'scent', 'like', 'sea']\n",
            "['passionate', 'native', 'flora', 'thays', 'created', 'unique', 'parks', 'imagined', 'improbable', 'encounters', 'multiple', 'odors', 'enchanting', 'gardens']\n"
          ],
          "name": "stdout"
        }
      ]
    },
    {
      "cell_type": "code",
      "metadata": {
        "id": "4Zoj0fs-uhNM"
      },
      "source": [
        "def avg_vectors(word_list):\n",
        "    v = [w2v_model[w] for w in word_list if w in w2v_model.wv.vocab]\n",
        "    return np.mean(v, axis=0) if v else None"
      ],
      "execution_count": 80,
      "outputs": []
    },
    {
      "cell_type": "code",
      "metadata": {
        "colab": {
          "base_uri": "https://localhost:8080/"
        },
        "id": "LlGaRQTPwJfM",
        "outputId": "2cc26e56-ba61-495e-ed1d-2c59df82457e"
      },
      "source": [
        "user_vec = avg_vectors(user_vec)\n",
        "user_vec2 = avg_vectors(user_vec2)"
      ],
      "execution_count": 81,
      "outputs": [
        {
          "output_type": "stream",
          "text": [
            "/usr/local/lib/python3.7/dist-packages/ipykernel_launcher.py:2: DeprecationWarning: Call to deprecated `__getitem__` (Method will be removed in 4.0.0, use self.wv.__getitem__() instead).\n",
            "  \n"
          ],
          "name": "stderr"
        }
      ]
    },
    {
      "cell_type": "code",
      "metadata": {
        "colab": {
          "base_uri": "https://localhost:8080/"
        },
        "id": "GpZyhAu0xElb",
        "outputId": "78a66b4c-3fbc-45f1-fb64-c79c8a01ba2a"
      },
      "source": [
        "cosine_similarity([user_vec2], doc_embedding_list).shape"
      ],
      "execution_count": 83,
      "outputs": [
        {
          "output_type": "execute_result",
          "data": {
            "text/plain": [
              "(1, 2191)"
            ]
          },
          "metadata": {
            "tags": []
          },
          "execution_count": 83
        }
      ]
    },
    {
      "cell_type": "code",
      "metadata": {
        "colab": {
          "base_uri": "https://localhost:8080/"
        },
        "id": "wYw4JENny-zY",
        "outputId": "1cb1e3fd-78ab-4147-f0f1-0207a8f130da"
      },
      "source": [
        "x = np.array([[3,5,2,1]])\n",
        "np.argsort(x[0])[::-1]"
      ],
      "execution_count": 86,
      "outputs": [
        {
          "output_type": "execute_result",
          "data": {
            "text/plain": [
              "array([1, 0, 2, 3])"
            ]
          },
          "metadata": {
            "tags": []
          },
          "execution_count": 86
        }
      ]
    },
    {
      "cell_type": "code",
      "metadata": {
        "colab": {
          "base_uri": "https://localhost:8080/"
        },
        "id": "goOOrl5HxeUh",
        "outputId": "8e3abed5-8491-43b1-bc39-a46ead6c8268"
      },
      "source": [
        "x = np.array([[3,1,2],[4,6,5]])\n",
        "np.sort(x, axis=1)"
      ],
      "execution_count": null,
      "outputs": [
        {
          "output_type": "execute_result",
          "data": {
            "text/plain": [
              "array([[1, 2, 3],\n",
              "       [4, 5, 6]])"
            ]
          },
          "metadata": {
            "tags": []
          },
          "execution_count": 74
        }
      ]
    },
    {
      "cell_type": "code",
      "metadata": {
        "id": "S1kDd0IzwMI7"
      },
      "source": [
        "def recommendation(user_input, top=5):\n",
        "    user_vec = avg_vectors(user_input_preprocessed(user_input))\n",
        "    sim = cosine_similarity([user_vec], doc_embedding_list)\n",
        "    sorted_args = np.argsort(sim[0])[::-1]\n",
        "    # sorted_args = (np.argsort(sim, axis=1)[0])[::-1]\n",
        "    sorted_args = sorted_args[:top]\n",
        "    return list(zip(sorted_args, sim[0, sorted_args]))"
      ],
      "execution_count": 87,
      "outputs": []
    },
    {
      "cell_type": "code",
      "metadata": {
        "colab": {
          "base_uri": "https://localhost:8080/"
        },
        "id": "V3UgBynBzNj-",
        "outputId": "f15d93b0-11a6-4d95-a17e-3f8de149b378"
      },
      "source": [
        "recommended = recommendation(user_input2)\n",
        "recommended"
      ],
      "execution_count": 88,
      "outputs": [
        {
          "output_type": "stream",
          "text": [
            "/usr/local/lib/python3.7/dist-packages/ipykernel_launcher.py:2: DeprecationWarning: Call to deprecated `__getitem__` (Method will be removed in 4.0.0, use self.wv.__getitem__() instead).\n",
            "  \n"
          ],
          "name": "stderr"
        },
        {
          "output_type": "execute_result",
          "data": {
            "text/plain": [
              "[(127, 0.84693074),\n",
              " (397, 0.72445345),\n",
              " (438, 0.72020984),\n",
              " (1619, 0.7202037),\n",
              " (1129, 0.7194506)]"
            ]
          },
          "metadata": {
            "tags": []
          },
          "execution_count": 88
        }
      ]
    },
    {
      "cell_type": "code",
      "metadata": {
        "colab": {
          "base_uri": "https://localhost:8080/",
          "height": 222
        },
        "id": "SdEdxXy3zQvB",
        "outputId": "aa6f6285-3cdf-4764-d0bc-405163881d48"
      },
      "source": [
        "indecies = [r[0] for r in recommended]\n",
        "print(user_input2)\n",
        "data[['Description', 'Notes']].loc[indecies]"
      ],
      "execution_count": 90,
      "outputs": [
        {
          "output_type": "stream",
          "text": [
            "Passionate about native flora, Thays created unique parks. We have imagined the improbable encounters of multiple odors in his enchanting gardens.\n"
          ],
          "name": "stdout"
        },
        {
          "output_type": "execute_result",
          "data": {
            "text/html": [
              "<div>\n",
              "<style scoped>\n",
              "    .dataframe tbody tr th:only-of-type {\n",
              "        vertical-align: middle;\n",
              "    }\n",
              "\n",
              "    .dataframe tbody tr th {\n",
              "        vertical-align: top;\n",
              "    }\n",
              "\n",
              "    .dataframe thead th {\n",
              "        text-align: right;\n",
              "    }\n",
              "</style>\n",
              "<table border=\"1\" class=\"dataframe\">\n",
              "  <thead>\n",
              "    <tr style=\"text-align: right;\">\n",
              "      <th></th>\n",
              "      <th>Description</th>\n",
              "      <th>Notes</th>\n",
              "    </tr>\n",
              "  </thead>\n",
              "  <tbody>\n",
              "    <tr>\n",
              "      <th>127</th>\n",
              "      <td>Passionate about native flora, Thays created ...</td>\n",
              "      <td>Mate flowers, Osmanthus, Green tea</td>\n",
              "    </tr>\n",
              "    <tr>\n",
              "      <th>397</th>\n",
              "      <td>A fragrance that traverses boundaries and con...</td>\n",
              "      <td>Oud Laos, Oud Bengal, Oud Trat, Rum, Vanilla,...</td>\n",
              "    </tr>\n",
              "    <tr>\n",
              "      <th>438</th>\n",
              "      <td>From the Thai for \"forest, \" Aran is an encha...</td>\n",
              "      <td>Goat hair, leather, frankincense, civet, cast...</td>\n",
              "    </tr>\n",
              "    <tr>\n",
              "      <th>1619</th>\n",
              "      <td>Les Jardins d'Armide are a symbol of beauty, ...</td>\n",
              "      <td>Rose, orange blossom, iris powder, florentine...</td>\n",
              "    </tr>\n",
              "    <tr>\n",
              "      <th>1129</th>\n",
              "      <td>Jules VerneHe was born in Nantes, at the begi...</td>\n",
              "      <td>Grapefruit, Citrus, Tangerine, Eucalyptus, Nu...</td>\n",
              "    </tr>\n",
              "  </tbody>\n",
              "</table>\n",
              "</div>"
            ],
            "text/plain": [
              "                                            Description                                              Notes\n",
              "127    Passionate about native flora, Thays created ...                 Mate flowers, Osmanthus, Green tea\n",
              "397    A fragrance that traverses boundaries and con...   Oud Laos, Oud Bengal, Oud Trat, Rum, Vanilla,...\n",
              "438    From the Thai for \"forest, \" Aran is an encha...   Goat hair, leather, frankincense, civet, cast...\n",
              "1619   Les Jardins d'Armide are a symbol of beauty, ...   Rose, orange blossom, iris powder, florentine...\n",
              "1129   Jules VerneHe was born in Nantes, at the begi...   Grapefruit, Citrus, Tangerine, Eucalyptus, Nu..."
            ]
          },
          "metadata": {
            "tags": []
          },
          "execution_count": 90
        }
      ]
    },
    {
      "cell_type": "code",
      "metadata": {
        "colab": {
          "base_uri": "https://localhost:8080/",
          "height": 258
        },
        "id": "CDMdKl_Hzo7r",
        "outputId": "63e8e5ee-289f-4ddc-dde0-3122b03848df"
      },
      "source": [
        "recommended2 = recommendation(user_input)\n",
        "indecies = [r[0] for r in recommended2]\n",
        "print(user_input)\n",
        "data[['Description', 'Notes']].loc[indecies]"
      ],
      "execution_count": 92,
      "outputs": [
        {
          "output_type": "stream",
          "text": [
            "It would be nice to have a refreshing scent like orange and a cool scent like the sea.\n"
          ],
          "name": "stdout"
        },
        {
          "output_type": "stream",
          "text": [
            "/usr/local/lib/python3.7/dist-packages/ipykernel_launcher.py:2: DeprecationWarning: Call to deprecated `__getitem__` (Method will be removed in 4.0.0, use self.wv.__getitem__() instead).\n",
            "  \n"
          ],
          "name": "stderr"
        },
        {
          "output_type": "execute_result",
          "data": {
            "text/html": [
              "<div>\n",
              "<style scoped>\n",
              "    .dataframe tbody tr th:only-of-type {\n",
              "        vertical-align: middle;\n",
              "    }\n",
              "\n",
              "    .dataframe tbody tr th {\n",
              "        vertical-align: top;\n",
              "    }\n",
              "\n",
              "    .dataframe thead th {\n",
              "        text-align: right;\n",
              "    }\n",
              "</style>\n",
              "<table border=\"1\" class=\"dataframe\">\n",
              "  <thead>\n",
              "    <tr style=\"text-align: right;\">\n",
              "      <th></th>\n",
              "      <th>Description</th>\n",
              "      <th>Notes</th>\n",
              "    </tr>\n",
              "  </thead>\n",
              "  <tbody>\n",
              "    <tr>\n",
              "      <th>1547</th>\n",
              "      <td>If you wanted a gentle, easy, casual fragranc...</td>\n",
              "      <td>Tobacco, castoreum, wood, leather</td>\n",
              "    </tr>\n",
              "    <tr>\n",
              "      <th>2028</th>\n",
              "      <td>\"The fragrance aims to evoke superhero magnet...</td>\n",
              "      <td>NaN</td>\n",
              "    </tr>\n",
              "    <tr>\n",
              "      <th>1704</th>\n",
              "      <td>Coccobello is truly intriguing and not your t...</td>\n",
              "      <td>Palm Leaves, Gardenia, Coconut, Sea Salt, Van...</td>\n",
              "    </tr>\n",
              "    <tr>\n",
              "      <th>2032</th>\n",
              "      <td>Previously known as No. 5 in the series. We'd...</td>\n",
              "      <td>Fennel, Italian Bergamot, Lemon Murcia from S...</td>\n",
              "    </tr>\n",
              "    <tr>\n",
              "      <th>877</th>\n",
              "      <td>Every line needs a musk, and this is The Musc...</td>\n",
              "      <td>Ginger, beeswax, lavender, sandalwood, musks</td>\n",
              "    </tr>\n",
              "  </tbody>\n",
              "</table>\n",
              "</div>"
            ],
            "text/plain": [
              "                                            Description                                              Notes\n",
              "1547   If you wanted a gentle, easy, casual fragranc...                  Tobacco, castoreum, wood, leather\n",
              "2028   \"The fragrance aims to evoke superhero magnet...                                                NaN\n",
              "1704   Coccobello is truly intriguing and not your t...   Palm Leaves, Gardenia, Coconut, Sea Salt, Van...\n",
              "2032   Previously known as No. 5 in the series. We'd...   Fennel, Italian Bergamot, Lemon Murcia from S...\n",
              "877    Every line needs a musk, and this is The Musc...       Ginger, beeswax, lavender, sandalwood, musks"
            ]
          },
          "metadata": {
            "tags": []
          },
          "execution_count": 92
        }
      ]
    },
    {
      "cell_type": "code",
      "metadata": {
        "colab": {
          "base_uri": "https://localhost:8080/"
        },
        "id": "dce3DRUqBCbs",
        "outputId": "1b3f097b-2668-41c0-a748-0ed8992faaaa"
      },
      "source": [
        "from gensim.models import KeyedVectors\n",
        "new_model = KeyedVectors.load_word2vec_format('/content/perfume_w2v')\n",
        "new_model.wv.most_similar('citrus')"
      ],
      "execution_count": 96,
      "outputs": [
        {
          "output_type": "stream",
          "text": [
            "/usr/local/lib/python3.7/dist-packages/ipykernel_launcher.py:3: DeprecationWarning: Call to deprecated `wv` (Attribute will be removed in 4.0.0, use self instead).\n",
            "  This is separate from the ipykernel package so we can avoid doing imports until\n"
          ],
          "name": "stderr"
        },
        {
          "output_type": "execute_result",
          "data": {
            "text/plain": [
              "[('grape', 0.633855402469635),\n",
              " ('strawberry', 0.6328265070915222),\n",
              " ('grapefruit', 0.6270824670791626),\n",
              " ('tomato', 0.6158294677734375),\n",
              " ('mango', 0.6063134670257568),\n",
              " ('fruit', 0.5927562713623047),\n",
              " ('blueberry', 0.5914932489395142),\n",
              " ('oranges', 0.59128737449646),\n",
              " ('almond', 0.5883358716964722),\n",
              " ('peaches', 0.5836828351020813)]"
            ]
          },
          "metadata": {
            "tags": []
          },
          "execution_count": 96
        }
      ]
    },
    {
      "cell_type": "code",
      "metadata": {
        "id": "H_4ysMwXBfIl"
      },
      "source": [
        ""
      ],
      "execution_count": null,
      "outputs": []
    }
  ]
}